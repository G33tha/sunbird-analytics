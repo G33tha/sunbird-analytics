{
 "cells": [
  {
   "cell_type": "code",
   "execution_count": 2,
   "metadata": {
    "collapsed": true
   },
   "outputs": [],
   "source": [
    "import csv\n",
    "import sys\n",
    "import collections\n",
    "import os.path\n",
    "import requests\n",
    "\n",
    "from cassandra.cluster import Cluster\n",
    "from cassandra.query import dict_factory\n",
    "\n",
    "from py2neo import Graph\n",
    "from py2neo import Node, Relationship\n",
    "\n",
    "import atexit\n",
    "\n",
    "cassandraDbOn=False\n",
    "neo4jDbOn=False\n",
    "\n",
    "def dbCleanUP(cassandraDbOn,neo4jDbOn):\n",
    "    if cassandraDbOn:\n",
    "    \tprint 'cleaning Cassandra state'\n",
    "    \tsession.shutdown();\n",
    "    \tcluster.shutdown();\n",
    "\n",
    "atexit.register(dbCleanUP,True,True)\n",
    "\n",
    "# read-csv learner proficiency table\n",
    "read_file = './data/CassandraLearnerProficiency.csv'\n",
    "\n",
    "# first pass to get the list of students and graders\n",
    "with open(read_file,'rb') as grade_file:\n",
    "\tfor line in grade_file:\n",
    "\t\tline = line.rstrip()\n",
    "\t\tnames = line.split(',')"
   ]
  },
  {
   "cell_type": "code",
   "execution_count": 3,
   "metadata": {
    "collapsed": false
   },
   "outputs": [
    {
     "ename": "NoHostAvailable",
     "evalue": "('Unable to connect to any servers', {'127.0.0.1': error(61, \"Tried connecting to [('127.0.0.1', 9042)]. Last error: Connection refused\")})",
     "output_type": "error",
     "traceback": [
      "\u001b[0;31m---------------------------------------------------------------------------\u001b[0m",
      "\u001b[0;31mNoHostAvailable\u001b[0m                           Traceback (most recent call last)",
      "\u001b[0;32m<ipython-input-3-ffee04149646>\u001b[0m in \u001b[0;36m<module>\u001b[0;34m()\u001b[0m\n\u001b[1;32m      1\u001b[0m \u001b[0mcassandraDbOn\u001b[0m\u001b[0;34m=\u001b[0m\u001b[0mTrue\u001b[0m\u001b[0;34m\u001b[0m\u001b[0m\n\u001b[1;32m      2\u001b[0m \u001b[0mcluster\u001b[0m \u001b[0;34m=\u001b[0m \u001b[0mCluster\u001b[0m\u001b[0;34m(\u001b[0m\u001b[0;34m)\u001b[0m\u001b[0;34m\u001b[0m\u001b[0m\n\u001b[0;32m----> 3\u001b[0;31m \u001b[0msession\u001b[0m \u001b[0;34m=\u001b[0m \u001b[0mcluster\u001b[0m\u001b[0;34m.\u001b[0m\u001b[0mconnect\u001b[0m\u001b[0;34m(\u001b[0m\u001b[0;34m'learner_db'\u001b[0m\u001b[0;34m)\u001b[0m\u001b[0;34m\u001b[0m\u001b[0m\n\u001b[0m\u001b[1;32m      4\u001b[0m \u001b[0msession\u001b[0m\u001b[0;34m.\u001b[0m\u001b[0mrow_factory\u001b[0m \u001b[0;34m=\u001b[0m \u001b[0mdict_factory\u001b[0m\u001b[0;34m\u001b[0m\u001b[0m\n",
      "\u001b[0;32m/Library/Python/2.7/site-packages/cassandra/cluster.so\u001b[0m in \u001b[0;36mcassandra.cluster.Cluster.connect (cassandra/cluster.c:11354)\u001b[0;34m()\u001b[0m\n",
      "\u001b[0;32m/Library/Python/2.7/site-packages/cassandra/cluster.so\u001b[0m in \u001b[0;36mcassandra.cluster.Cluster.connect (cassandra/cluster.c:11176)\u001b[0;34m()\u001b[0m\n",
      "\u001b[0;32m/Library/Python/2.7/site-packages/cassandra/cluster.so\u001b[0m in \u001b[0;36mcassandra.cluster.Cluster.connect (cassandra/cluster.c:11056)\u001b[0;34m()\u001b[0m\n",
      "\u001b[0;32m/Library/Python/2.7/site-packages/cassandra/cluster.so\u001b[0m in \u001b[0;36mcassandra.cluster.ControlConnection.connect (cassandra/cluster.c:36224)\u001b[0;34m()\u001b[0m\n",
      "\u001b[0;32m/Library/Python/2.7/site-packages/cassandra/cluster.so\u001b[0m in \u001b[0;36mcassandra.cluster.ControlConnection._reconnect_internal (cassandra/cluster.c:37080)\u001b[0;34m()\u001b[0m\n",
      "\u001b[0;31mNoHostAvailable\u001b[0m: ('Unable to connect to any servers', {'127.0.0.1': error(61, \"Tried connecting to [('127.0.0.1', 9042)]. Last error: Connection refused\")})"
     ]
    }
   ],
   "source": [
    "cassandraDbOn=True\n",
    "cluster = Cluster()\n",
    "session = cluster.connect('learner_db')\n",
    "session.row_factory = dict_factory"
   ]
  },
  {
   "cell_type": "code",
   "execution_count": 94,
   "metadata": {
    "collapsed": true
   },
   "outputs": [],
   "source": [
    "graph = Graph()"
   ]
  },
  {
   "cell_type": "code",
   "execution_count": 73,
   "metadata": {
    "collapsed": true
   },
   "outputs": [],
   "source": [
    "lids = session.execute(\"SELECT DISTINCT learner_id from learnerproficiency\")[0]"
   ]
  },
  {
   "cell_type": "code",
   "execution_count": 99,
   "metadata": {
    "collapsed": false
   },
   "outputs": [],
   "source": [
    "lid=lids['learner_id']"
   ]
  },
  {
   "cell_type": "code",
   "execution_count": 100,
   "metadata": {
    "collapsed": false
   },
   "outputs": [],
   "source": [
    "prof = session.execute(\"SELECT proficiency from learnerproficiency WHERE learner_id='\" + lid + \"'\")[0]['proficiency']"
   ]
  },
  {
   "cell_type": "code",
   "execution_count": 101,
   "metadata": {
    "collapsed": false
   },
   "outputs": [
    {
     "name": "stdout",
     "output_type": "stream",
     "text": [
      "(u'Num:C2:SC1:MC2', 0.71)\n",
      "\n",
      "\n",
      "(u'Num:C2:SC2:MC8', 0.43)\n",
      "\n",
      "\n",
      "(u'Num:C3:SC2:MC5', 0.71)\n",
      "\n",
      "\n",
      "(u'Num:C4:SC4:MC1', 0.6)\n",
      "\n",
      "\n",
      "(u'Num:C4:SC4:MC11', 0.82)\n",
      "\n",
      "\n",
      "(u'Num:C4:SC5:MC9', 0.6)\n",
      "\n",
      "\n"
     ]
    }
   ],
   "source": [
    "for key,val in prof.items():\n",
    "    print(key,val)\n",
    "    print(\"\\n\")\n",
    "    "
   ]
  },
  {
   "cell_type": "code",
   "execution_count": 91,
   "metadata": {
    "collapsed": false
   },
   "outputs": [
    {
     "name": "stdout",
     "output_type": "stream",
     "text": [
      "Num:C4:SC5:MC9\n"
     ]
    }
   ],
   "source": [
    "print(key)"
   ]
  },
  {
   "cell_type": "code",
   "execution_count": 96,
   "metadata": {
    "collapsed": false
   },
   "outputs": [],
   "source": [
    "graph.schema.create_uniqueness_constraint(\"Concept\", \"id\")"
   ]
  },
  {
   "cell_type": "code",
   "execution_count": 97,
   "metadata": {
    "collapsed": true
   },
   "outputs": [],
   "source": [
    "graph.schema.create_uniqueness_constraint(\"Learner\", \"id\")"
   ]
  },
  {
   "cell_type": "code",
   "execution_count": 98,
   "metadata": {
    "collapsed": true
   },
   "outputs": [],
   "source": [
    "graph.schema.create_uniqueness_constraint(\"Content\", \"id\")"
   ]
  },
  {
   "cell_type": "code",
   "execution_count": 102,
   "metadata": {
    "collapsed": false
   },
   "outputs": [
    {
     "name": "stdout",
     "output_type": "stream",
     "text": [
      "bec93d0e-1e11-4d5f-a5ee-ac46123c75ea\n"
     ]
    }
   ],
   "source": [
    "print(lid)"
   ]
  },
  {
   "cell_type": "code",
   "execution_count": 103,
   "metadata": {
    "collapsed": false
   },
   "outputs": [
    {
     "name": "stdout",
     "output_type": "stream",
     "text": [
      "0.6\n"
     ]
    }
   ],
   "source": [
    "print(val)"
   ]
  },
  {
   "cell_type": "code",
   "execution_count": 109,
   "metadata": {
    "collapsed": false
   },
   "outputs": [
    {
     "data": {
      "text/plain": [
       "(<Relationship graph=u'http://localhost:7474/db/data/' ref=u'relationship/2' start=u'node/6' end=u'node/7' type=u'assessed_in' properties={}>,)"
      ]
     },
     "execution_count": 109,
     "metadata": {},
     "output_type": "execute_result"
    }
   ],
   "source": [
    "a=Node(\"Learner\", id=lid)\n",
    "b=Node(\"Concept\",id=key)\n",
    "a2b = Relationship(a,\"assessed_in\",b)\n",
    "graph.create(a2b)"
   ]
  },
  {
   "cell_type": "code",
   "execution_count": 1,
   "metadata": {
    "collapsed": false
   },
   "outputs": [
    {
     "name": "stdout",
     "output_type": "stream",
     "text": [
      "('conce', 2)\n"
     ]
    }
   ],
   "source": [
    "print(\"conce\",2)"
   ]
  },
  {
   "cell_type": "code",
   "execution_count": 15,
   "metadata": {
    "collapsed": true
   },
   "outputs": [],
   "source": [
    "import requests\n",
    "clistURL = \"http://lp-sandbox.ekstep.org:8080/taxonomy-service/v2/analytics/content/list\"\n",
    "url = clistURL\n",
    "resp = requests.get(url).json()"
   ]
  },
  {
   "cell_type": "code",
   "execution_count": 16,
   "metadata": {
    "collapsed": false
   },
   "outputs": [
    {
     "name": "stdout",
     "output_type": "stream",
     "text": [
      "[u'ver', u'ts', u'params', u'result', u'responseCode', u'id']\n"
     ]
    }
   ],
   "source": [
    "print(resp.keys())"
   ]
  },
  {
   "cell_type": "code",
   "execution_count": 20,
   "metadata": {
    "collapsed": false
   },
   "outputs": [
    {
     "name": "stdout",
     "output_type": "stream",
     "text": [
      "227\n"
     ]
    }
   ],
   "source": [
    "print(len(resp[\"result\"][\"contents\"]))"
   ]
  },
  {
   "cell_type": "code",
   "execution_count": 22,
   "metadata": {
    "collapsed": false
   },
   "outputs": [
    {
     "name": "stdout",
     "output_type": "stream",
     "text": [
      "[u'mimeType', u'pkgVersion', u'code', u'owner', u'developer', u'lastUpdatedOn', u'gradeLevel', u'tags', u'mediaType', u'osId', u'status', u'contentType', u'idealScreenDensity', u'visibility', u'name', u'language', u'createdOn', u'idealScreenSize', u'downloadUrl', u'concepts', u'identifier', u'os', u'ageGroup']\n"
     ]
    }
   ],
   "source": [
    "conceptDict = resp[\"result\"][\"contents\"][0]\n",
    "print(conceptDict.keys())"
   ]
  },
  {
   "cell_type": "code",
   "execution_count": 23,
   "metadata": {
    "collapsed": false
   },
   "outputs": [
    {
     "name": "stdout",
     "output_type": "stream",
     "text": [
      "[]\n"
     ]
    }
   ],
   "source": [
    "concepts = resp[\"result\"][\"contents\"][0]['concepts']\n",
    "print(concepts)"
   ]
  },
  {
   "cell_type": "code",
   "execution_count": 24,
   "metadata": {
    "collapsed": true
   },
   "outputs": [],
   "source": [
    "contents = resp[\"result\"][\"contents\"]"
   ]
  },
  {
   "cell_type": "code",
   "execution_count": 48,
   "metadata": {
    "collapsed": true
   },
   "outputs": [],
   "source": [
    "baseURL = \"http://lp-sandbox.ekstep.org:8080/taxonomy-service/v2/analytics/getContent/\"\n",
    "identifier = \"org.ekstep.mar8.story\"\n",
    "url = baseURL+identifier\n",
    "resp = requests.get(url)"
   ]
  },
  {
   "cell_type": "code",
   "execution_count": 41,
   "metadata": {
    "collapsed": false
   },
   "outputs": [
    {
     "data": {
      "text/plain": [
       "200"
      ]
     },
     "execution_count": 41,
     "metadata": {},
     "output_type": "execute_result"
    }
   ],
   "source": [
    "resp.status_code"
   ]
  },
  {
   "cell_type": "code",
   "execution_count": 38,
   "metadata": {
    "collapsed": false
   },
   "outputs": [
    {
     "name": "stdout",
     "output_type": "stream",
     "text": [
      "Current Letter : P\n",
      "another statement\n",
      "Current Letter : y\n",
      "another statement\n",
      "Current Letter : t\n",
      "another statement\n",
      "Current Letter : o\n",
      "another statement\n",
      "Current Letter : n\n",
      "another statement\n"
     ]
    }
   ],
   "source": [
    "for letter in 'Python': \n",
    "   if letter == 'h':\n",
    "      continue\n",
    "      print 'This is pass block'\n",
    "   print 'Current Letter :', letter\n",
    "   print 'another statement' \n"
   ]
  },
  {
   "cell_type": "code",
   "execution_count": 51,
   "metadata": {
    "collapsed": false
   },
   "outputs": [
    {
     "name": "stdout",
     "output_type": "stream",
     "text": [
      "[u'mimeType', u'pkgVersion', u'code', u'owner', u'appIcon', u'subject', u'lastUpdatedOn', u'gradeLevel', u'idealScreenDensity', u'mediaType', u'osId', u'developer', u'status', u'contentType', u'description', u'tags', u'visibility', u's3Key', u'name', u'language', u'createdOn', u'idealScreenSize', u'downloadUrl', u'concepts', u'identifier', u'os', u'ageGroup']\n"
     ]
    }
   ],
   "source": [
    "resp2 = resp.json()\n",
    "print(resp2['result']['content'].keys())"
   ]
  },
  {
   "cell_type": "code",
   "execution_count": 58,
   "metadata": {
    "collapsed": false
   },
   "outputs": [
    {
     "name": "stdout",
     "output_type": "stream",
     "text": [
      "1\n"
     ]
    }
   ],
   "source": [
    "s=['x','y']\n",
    "locals()[s[0]]=1\n",
    "print(x)"
   ]
  },
  {
   "cell_type": "code",
   "execution_count": 62,
   "metadata": {
    "collapsed": false
   },
   "outputs": [
    {
     "name": "stdout",
     "output_type": "stream",
     "text": [
      "0\n"
     ]
    }
   ],
   "source": [
    "x=None\n",
    "if not x is None:\n",
    "    print(1)\n",
    "else:\n",
    "    print(0)\n",
    "    "
   ]
  },
  {
   "cell_type": "code",
   "execution_count": 65,
   "metadata": {
    "collapsed": false
   },
   "outputs": [
    {
     "name": "stdout",
     "output_type": "stream",
     "text": [
      "317\n"
     ]
    }
   ],
   "source": [
    "url=\"http://lp-sandbox.ekstep.org:8080/taxonomy-service/v2/analytics/domain/map\"\n",
    "resp = requests.get(url).json()\n"
   ]
  },
  {
   "cell_type": "code",
   "execution_count": 68,
   "metadata": {
    "collapsed": false
   },
   "outputs": [
    {
     "name": "stdout",
     "output_type": "stream",
     "text": [
      "[u'status', u'code', u'description', u'identifier', u'tags', u'gradeLevel', u'name', u'internalValidation', u'lastUpdatedOn', u'objectType', u'subject']\n"
     ]
    }
   ],
   "source": [
    "print(resp[\"result\"][\"concepts\"][100]['subject'])"
   ]
  },
  {
   "cell_type": "code",
   "execution_count": 69,
   "metadata": {
    "collapsed": false
   },
   "outputs": [
    {
     "name": "stdout",
     "output_type": "stream",
     "text": [
      "numeracy\n"
     ]
    }
   ],
   "source": [
    "print(resp[\"result\"][\"concepts\"][100]['subject'])"
   ]
  },
  {
   "cell_type": "code",
   "execution_count": 72,
   "metadata": {
    "collapsed": false
   },
   "outputs": [
    {
     "name": "stdout",
     "output_type": "stream",
     "text": [
      "[u'relationType', u'endNodeId', u'startNodeId', u'startNodeObjectType', u'endNodeObjectType']\n"
     ]
    }
   ],
   "source": [
    "print(resp[\"result\"]['relations'][0].keys())"
   ]
  },
  {
   "cell_type": "code",
   "execution_count": 73,
   "metadata": {
    "collapsed": true
   },
   "outputs": [],
   "source": [
    "from cassandra.cluster import Cluster\n",
    "from cassandra.query import dict_factory\n",
    "cluster = Cluster()\n",
    "session = cluster.connect('learner_db')\n",
    "session.row_factory = dict_factory\n",
    "lids = session.execute(\"SELECT DISTINCT learner_id from learnerconceptrelevance\")"
   ]
  },
  {
   "cell_type": "code",
   "execution_count": 81,
   "metadata": {
    "collapsed": false
   },
   "outputs": [],
   "source": [
    "uid=lids[0]['learner_id']"
   ]
  },
  {
   "cell_type": "code",
   "execution_count": 82,
   "metadata": {
    "collapsed": false
   },
   "outputs": [],
   "source": [
    "relDict = session.execute(\"SELECT relevance from learnerconceptrelevance WHERE learner_id='\" + uid + \"'\")"
   ]
  },
  {
   "cell_type": "code",
   "execution_count": 88,
   "metadata": {
    "collapsed": false
   },
   "outputs": [
    {
     "name": "stdout",
     "output_type": "stream",
     "text": [
      "[(u'LD1', 0.00311597101896918), (u'LD2', 0.0031042416735328413), (u'LD3', 0.003094424514717713), (u'LD4', 0.003117848323850742), (u'LD5', 0.0031070802719220373), (u'LD6', 0.0030755851217451795), (u'LO1', 0.003135395019107913), (u'LO10', 0.0031174852701288075), (u'LO11', 0.0030522726641937755), (u'LO12', 0.003061479020830109), (u'LO13', 0.0030678584235731996), (u'LO14', 0.0030494322080102947), (u'LO15', 0.0030484250112476517), (u'LO16', 0.0030513465936249616), (u'LO18', 0.0030970771979959995), (u'LO19', 0.003099855068574893), (u'LO2', 0.003104874123117235), (u'LO20', 0.003112168659235991), (u'LO21', 0.0031121649327250063), (u'LO22', 0.003097982635221614), (u'LO23', 0.003102563230836227), (u'LO24', 0.003100170545265653), (u'LO25', 0.003100649799617405), (u'LO26', 0.003228908695896716), (u'LO27', 0.0031969689952365504), (u'LO28', 0.0031120739440785015), (u'LO29', 0.0031208567066059044), (u'LO3', 0.003116445121324817), (u'LO30', 0.003133135185255234), (u'LO31', 0.0031154660132622345), (u'LO32', 0.0031341208571389113), (u'LO33', 0.0031111024814293726), (u'LO34', 0.003124402933279155), (u'LO35', 0.0031340935881732806), (u'LO36', 0.0030733561314954935), (u'LO37', 0.0030815682096997786), (u'LO38', 0.003077870408973574), (u'LO39', 0.003091838304716407), (u'LO4', 0.0030957457924200415), (u'LO40', 0.0030908314347953963), (u'LO41', 0.003096363332831652), (u'LO42', 0.0031067553386726968), (u'LO43', 0.003102702007263551), (u'LO44', 0.00309599357445744), (u'LO45', 0.003097622083915144), (u'LO46', 0.0031008576987719984), (u'LO47', 0.0031072461464574657), (u'LO48', 0.0031074183379859975), (u'LO49', 0.0031007776106910467), (u'LO5', 0.003084402661923882), (u'LO50', 0.003120836814979011), (u'LO51', 0.003126800567418734), (u'LO52', 0.0031219119300348497), (u'LO53', 0.0031196342955976193), (u'LO54', 0.0031214704119860402), (u'LO6', 0.0031192044646634336), (u'LO7', 0.003119208772975781), (u'LO8', 0.0031414916552245198), (u'LO9', 0.0031126703704106654), (u'LT01', 0.0031776668528858895), (u'LT02', 0.0030974034862896824), (u'LT03', 0.0031484529703774107), (u'LT04', 0.003085478866266857), (u'LT05', 0.003050810220233698), (u'LT06', 0.0031353600896816356), (u'LT07', 0.003129936424904504), (u'LT08', 0.0031409359361586875), (u'LT09', 0.0031846423179475152), (u'LT1', 0.0031248007741873293), (u'LT10', 0.003109794001492526), (u'LT11', 0.0031381835906569852), (u'LT12', 0.003143138273362512), (u'LT13', 0.003148127836997417), (u'LT2', 0.0031248007741873293), (u'LT3', 0.0031248007741873293), (u'LT4', 0.0031248007741873293), (u'LT5', 0.0031248007741873293), (u'LT6', 0.0031248007741873293), (u'LT7', 0.0031248007741873293), (u'LT8', 0.0031248007741873293), (u'LT9', 0.0031248007741873293), (u'Num:C1', 0.003096883148692089), (u'Num:C1:SC1', 0.0030781240104117247), (u'Num:C1:SC1:MC1', 0.002994115956066161), (u'Num:C1:SC2', 0.0030656839984669207), (u'Num:C1:SC2:MC1', 0.002986703496819318), (u'Num:C1:SC2:MC10', 0.002977717103552467), (u'Num:C1:SC2:MC11', 0.002989451405820218), (u'Num:C1:SC2:MC12', 0.002983986053570473), (u'Num:C1:SC2:MC13', 0.0029934677924062275), (u'Num:C1:SC2:MC14', 0.0029830684057361207), (u'Num:C1:SC2:MC15', 0.002993667014954573), (u'Num:C1:SC2:MC16', 0.002976554419706069), (u'Num:C1:SC2:MC17', 0.002986576115562482), (u'Num:C1:SC2:MC18', 0.0029887238446463468), (u'Num:C1:SC2:MC19', 0.002981537981043864), (u'Num:C1:SC2:MC2', 0.002991947308752675), (u'Num:C1:SC2:MC20', 0.002995387291174297), (u'Num:C1:SC2:MC21', 0.0029811616027723494), (u'Num:C1:SC2:MC22', 0.0029845965277807028), (u'Num:C1:SC2:MC23', 0.0029885587614647937), (u'Num:C1:SC2:MC24', 0.0029830597964204753), (u'Num:C1:SC2:MC3', 0.0029813700357065693), (u'Num:C1:SC2:MC4', 0.002993437976399374), (u'Num:C1:SC2:MC5', 0.0029778395051056066), (u'Num:C1:SC2:MC6', 0.0029813297857651934), (u'Num:C1:SC2:MC7', 0.0029767382782262355), (u'Num:C1:SC2:MC8', 0.002985614102635237), (u'Num:C1:SC2:MC9', 0.0029846255130572476), (u'Num:C1:SC3', 0.0030805935814440057), (u'Num:C1:SC3:MC1', 0.0030220689411766346), (u'Num:C1:SC3:MC10', 0.0030165551993298987), (u'Num:C1:SC3:MC11', 0.003028719279327991), (u'Num:C1:SC3:MC12', 0.0030055668738540203), (u'Num:C1:SC3:MC13', 0.003016022437598181), (u'Num:C1:SC3:MC14', 0.003007477775678408), (u'Num:C1:SC3:MC15', 0.003009801330112168), (u'Num:C1:SC3:MC16', 0.0030175814681206734), (u'Num:C1:SC3:MC2', 0.003008417769405229), (u'Num:C1:SC3:MC3', 0.003023361365386803), (u'Num:C1:SC3:MC4', 0.003016467616262823), (u'Num:C1:SC3:MC5', 0.0030158175099485487), (u'Num:C1:SC3:MC6', 0.0030058239462858985), (u'Num:C1:SC3:MC7', 0.003028834723938942), (u'Num:C1:SC3:MC8', 0.003029035071707022), (u'Num:C1:SC3:MC9', 0.0030228328615207996), (u'Num:C2', 0.0031174324537986756), (u'Num:C2:SC1', 0.003118490465103557), (u'Num:C2:SC1:MC1', 0.0031092704889985816), (u'Num:C2:SC1:MC10', 0.0031136516326704436), (u'Num:C2:SC1:MC11', 0.0030997453003200667), (u'Num:C2:SC1:MC12', 0.003110960372336986), (u'Num:C2:SC1:MC13', 0.003102500039450618), (u'Num:C2:SC1:MC14', 0.0031023775596162673), (u'Num:C2:SC1:MC2', 0.003105118925955378), (u'Num:C2:SC1:MC3', 0.0031118808172445234), (u'Num:C2:SC1:MC4', 0.0031156857934403507), (u'Num:C2:SC1:MC5', 0.00311846931832991), (u'Num:C2:SC1:MC6', 0.0031089016776479567), (u'Num:C2:SC1:MC7', 0.0031133591338679983), (u'Num:C2:SC1:MC8', 0.0031046792167723557), (u'Num:C2:SC1:MC9', 0.00311546308687911), (u'Num:C2:SC2', 0.0031028211603183527), (u'Num:C2:SC2:MC1', 0.003074203695160022), (u'Num:C2:SC2:MC10', 0.0030763021989073727), (u'Num:C2:SC2:MC11', 0.003073133750651861), (u'Num:C2:SC2:MC12', 0.0030767490032821312), (u'Num:C2:SC2:MC13', 0.0030549916910477676), (u'Num:C2:SC2:MC2', 0.0030667484547478897), (u'Num:C2:SC2:MC3', 0.003059219604512552), (u'Num:C2:SC2:MC4', 0.003057221199204311), (u'Num:C2:SC2:MC5', 0.0030575862127081442), (u'Num:C2:SC2:MC6', 0.0030740767276533766), (u'Num:C2:SC2:MC7', 0.0030604852663767422), (u'Num:C2:SC2:MC8', 0.0030700208358957906), (u'Num:C2:SC2:MC9', 0.0030625866930763445), (u'Num:C2:SC3', 0.003115421826096781), (u'Num:C2:SC3:M1', 0.003111769433263877), (u'Num:C2:SC3:M2', 0.0031139157951734207), (u'Num:C2:SC3:M3', 0.0031107623222434897), (u'Num:C2:SC3:M4', 0.0030978163802484874), (u'Num:C2:SC3:M5', 0.0030973130917464446), (u'Num:C2:SC3:M6', 0.0030872029595333337), (u'Num:C2:SC3:M7', 0.003100455073206232), (u'Num:C2:SC3:M8', 0.003101432601062712), (u'Num:C3', 0.003117335250232016), (u'Num:C3:SC1', 0.0030911386779959075), (u'Num:C3:SC1:MC1', 0.00305516655125032), (u'Num:C3:SC1:MC10', 0.003061679250843541), (u'Num:C3:SC1:MC11', 0.003056721558552561), (u'Num:C3:SC1:MC12', 0.003056496295498655), (u'Num:C3:SC1:MC13', 0.003052118764185396), (u'Num:C3:SC1:MC14', 0.00305213420114973), (u'Num:C3:SC1:MC15', 0.0030494457717248217), (u'Num:C3:SC1:MC16', 0.003053750272011055), (u'Num:C3:SC1:MC17', 0.0030598613034625607), (u'Num:C3:SC1:MC18', 0.0030520644469259487), (u'Num:C3:SC1:MC19', 0.0030553711004453876), (u'Num:C3:SC1:MC2', 0.0030486311072722393), (u'Num:C3:SC1:MC20', 0.0030548569017820283), (u'Num:C3:SC1:MC21', 0.0030553673108937563), (u'Num:C3:SC1:MC22', 0.0030582182050783242), (u'Num:C3:SC1:MC23', 0.003055660139871581), (u'Num:C3:SC1:MC24', 0.003061954038089544), (u'Num:C3:SC1:MC3', 0.0030489633213394837), (u'Num:C3:SC1:MC4', 0.003059044683345027), (u'Num:C3:SC1:MC5', 0.0030485630289950054), (u'Num:C3:SC1:MC6', 0.003050025454313599), (u'Num:C3:SC1:MC7', 0.0030559021080442893), (u'Num:C3:SC1:MC8', 0.003049887492841945), (u'Num:C3:SC1:MC9', 0.0030508749517531232), (u'Num:C3:SC2', 0.0031253098823466737), (u'Num:C3:SC2:MC1', 0.003130376224297053), (u'Num:C3:SC2:MC2', 0.003130182890010554), (u'Num:C3:SC2:MC3', 0.0031355231978810257), (u'Num:C3:SC2:MC4', 0.003136181947098577), (u'Num:C3:SC2:MC5', 0.0031245140193395414), (u'Num:C3:SC2:MC6', 0.003128079687354019), (u'Num:C3:SC2:MC7', 0.0031365687522076444), (u'Num:C3:SC2:MC8', 0.003119730434787194), (u'Num:C3:SC2:MC9', 0.00312869701686565), (u'Num:C3:SC3', 0.003127423935483393), (u'Num:C3:SC3:MC1', 0.0031399432969069843), (u'Num:C3:SC3:MC2', 0.0031326117877275173), (u'Num:C3:SC3:MC3', 0.0031416718859159326), (u'Num:C3:SC3:MC4', 0.0031328732565950304), (u'Num:C3:SC3:MC5', 0.0031411752090248664), (u'Num:C3:SC3:MC6', 0.0031249398026275198), (u'Num:C3:SC3:MC7', 0.0031366787497811486), (u'Num:C3:SC3:MC8', 0.003135457512979256), (u'Num:C3:SC3:MC9', 0.003136549653471124), (u'Num:C3:SC4', 0.003119653902838638), (u'Num:C3:SC4:MC1', 0.003120902194691151), (u'Num:C3:SC4:MC2', 0.0031129329887754132), (u'Num:C3:SC4:MC3', 0.0031169827486518488), (u'Num:C3:SC5', 0.003116071268557421), (u'Num:C3:SC5:MC1', 0.0031005133317990514), (u'Num:C3:SC5:MC2', 0.003112296785483549), (u'Num:C3:SC5:MC3', 0.0031126030442227186), (u'Num:C3:SC6', 0.003117086393072478), (u'Num:C3:SC6:MC1', 0.0031119118676854506), (u'Num:C3:SC6:MC2', 0.003115970220532596), (u'Num:C3:SC6:MC3', 0.003113525968794003), (u'Num:C3:SC7', 0.0031125658520449297), (u'Num:C3:SC7:MC1', 0.0031034000120981286), (u'Num:C3:SC7:MC2', 0.00310484760083707), (u'Num:C3:SC7:MC3', 0.0030897523261508198), (u'Num:C3:SC7:MC4', 0.003092248964170799), (u'Num:C3:SC7:MC5', 0.0031003848780353097), (u'Num:C3:SC7:MC6', 0.0030946539760678305), (u'Num:C3:SC7:MC7', 0.0031003109042628796), (u'Num:C3:SC7:MC8', 0.00310437235672824), (u'Num:C3:SC8', 0.003104583109536839), (u'Num:C3:SC8:MC1', 0.0030686400042329908), (u'Num:C3:SC8:MC2', 0.003080867301840253), (u'Num:C3:SC9', 0.0031103991991443896), (u'Num:C3:SC9:MC1', 0.0030879204457283007), (u'Num:C4', 0.0031446662200292426), (u'Num:C4:SC1', 0.0031569761582852145), (u'Num:C4:SC1:MC1', 0.003200646995422804), (u'Num:C4:SC1:MC2', 0.0032054782547465475), (u'Num:C4:SC1:MC3', 0.003193548694851951), (u'Num:C4:SC1:MC4', 0.003200222252257461), (u'Num:C4:SC1:MC5', 0.003189672463441376), (u'Num:C4:SC1:MC6', 0.0031957650789253963), (u'Num:C4:SC1:MC7', 0.0031960252429324614), (u'Num:C4:SC1:MC8', 0.003195866896050358), (u'Num:C4:SC1:MC9', 0.003194977919656049), (u'Num:C4:SC2', 0.003166042714960362), (u'Num:C4:SC2:MC1', 0.0032157922416821525), (u'Num:C4:SC2:MC2', 0.0032247060926297194), (u'Num:C4:SC2:MC3', 0.0032281063122266266), (u'Num:C4:SC2:MC4', 0.0032169272637973608), (u'Num:C4:SC2:MC5', 0.003210824020982764), (u'Num:C4:SC2:MC6', 0.0032195231107911416), (u'Num:C4:SC2:MC7', 0.003221024068126507), (u'Num:C4:SC2:MC8', 0.0032279883955436575), (u'Num:C4:SC3', 0.003151774091655454), (u'Num:C4:SC3:MC1', 0.0031798794766083383), (u'Num:C4:SC3:MC10', 0.00318910914035587), (u'Num:C4:SC3:MC11', 0.003184070371087573), (u'Num:C4:SC3:MC2', 0.003178833698545419), (u'Num:C4:SC3:MC3', 0.003178868089343909), (u'Num:C4:SC3:MC4', 0.0031870033256992574), (u'Num:C4:SC3:MC5', 0.0031763306989804774), (u'Num:C4:SC3:MC6', 0.003192935059673053), (u'Num:C4:SC3:MC7', 0.003186724989423848), (u'Num:C4:SC3:MC8', 0.003193575898846618), (u'Num:C4:SC3:MC9', 0.003184070852133154), (u'Num:C4:SC4', 0.003168295655665426), (u'Num:C4:SC4:MC1', 0.003217037979626599), (u'Num:C4:SC4:MC10', 0.003227277809469475), (u'Num:C4:SC4:MC11', 0.0032271801421667173), (u'Num:C4:SC4:MC12', 0.0032102405454084012), (u'Num:C4:SC4:MC13', 0.003212129906481543), (u'Num:C4:SC4:MC14', 0.003226477942670441), (u'Num:C4:SC4:MC2', 0.00321152645960934), (u'Num:C4:SC4:MC3', 0.0032124428195867316), (u'Num:C4:SC4:MC4', 0.003226354703292525), (u'Num:C4:SC4:MC5', 0.0032277583005105915), (u'Num:C4:SC4:MC6', 0.0032268716086947917), (u'Num:C4:SC4:MC7', 0.0032186134269297805), (u'Num:C4:SC4:MC8', 0.003228879423194224), (u'Num:C4:SC4:MC9', 0.003229307922653701), (u'Num:C4:SC5', 0.0031531979749962595), (u'Num:C4:SC5:MC1', 0.0031882462403690593), (u'Num:C4:SC5:MC10', 0.003195374359491792), (u'Num:C4:SC5:MC11', 0.003193074048120246), (u'Num:C4:SC5:MC12', 0.003183352797979716), (u'Num:C4:SC5:MC2', 0.003183688351172466), (u'Num:C4:SC5:MC3', 0.003186313614086297), (u'Num:C4:SC5:MC4', 0.0031964789382947305), (u'Num:C4:SC5:MC5', 0.0031936425473201653), (u'Num:C4:SC5:MC6', 0.0031787341308698587), (u'Num:C4:SC5:MC7', 0.0031778363850052524), (u'Num:C4:SC5:MC8', 0.003195218632238869), (u'Num:C4:SC5:MC9', 0.003179488387036898), (u'Num:C4:SC6', 0.0031597569314765106), (u'Num:C4:SC6:MC1', 0.0032153112632916582), (u'Num:C4:SC6:MC2', 0.00321676242241886), (u'Num:C4:SC7', 0.003155953299082893), (u'Num:C4:SC7:MC1', 0.0032087517963501327), (u'Num:C5', 0.0031196974403182236), (u'Num:C5:SC1', 0.003116889729673507), (u'Num:C5:SC1:MC1', 0.003068011643958496), (u'Num:C5:SC1:MC2', 0.0030719836455487012), (u'Num:C5:SC2', 0.003119690590537833), (u'Num:C5:SC2:MC1', 0.0030881763067566086), (u'Num:C5:SC2:MC2', 0.003088089303807982), (u'Num:C5:SC3', 0.003115103209941841), (u'Num:C5:SC3:MC1', 0.0030937906993234398), (u'Num:C5:SC3:MC2', 0.0030544055768532926), (u'Num:C5:SC3:MC3', 0.0030628470608975718), (u'concept_Live', 0.0031248007741873293), (u'domain_541', 0.0031248007741873293), (u'literacy', 0.0031046849887681233), (u'numeracy', 0.0031205682421525972)]\n"
     ]
    }
   ],
   "source": [
    "print((relDict[0]['relevance'].items()))"
   ]
  },
  {
   "cell_type": "code",
   "execution_count": null,
   "metadata": {
    "collapsed": true
   },
   "outputs": [],
   "source": []
  }
 ],
 "metadata": {
  "kernelspec": {
   "display_name": "Python 2",
   "language": "python",
   "name": "python2"
  },
  "language_info": {
   "codemirror_mode": {
    "name": "ipython",
    "version": 2
   },
   "file_extension": ".py",
   "mimetype": "text/x-python",
   "name": "python",
   "nbconvert_exporter": "python",
   "pygments_lexer": "ipython2",
   "version": "2.7.10"
  }
 },
 "nbformat": 4,
 "nbformat_minor": 0
}
