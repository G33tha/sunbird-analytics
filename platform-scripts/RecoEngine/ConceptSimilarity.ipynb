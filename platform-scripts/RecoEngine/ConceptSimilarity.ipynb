{
 "cells": [
  {
   "cell_type": "code",
   "execution_count": 2,
   "metadata": {
    "collapsed": false
   },
   "outputs": [],
   "source": [
    "from py2neo import Graph\n",
    "from py2neo import Node, Relationship\n",
    "\n",
    "# neo4j graph connector\n",
    "graph = Graph()\n",
    "cypher = graph.cypher"
   ]
  },
  {
   "cell_type": "code",
   "execution_count": 48,
   "metadata": {
    "collapsed": true
   },
   "outputs": [],
   "source": [
    "result = cypher.execute(\"MATCH (x:Concept{id:'Num:C5:SC1:MC2'})<-[r]-(y:Concept) RETURN y.id\")"
   ]
  },
  {
   "cell_type": "code",
   "execution_count": 50,
   "metadata": {
    "collapsed": false
   },
   "outputs": [
    {
     "name": "stdout",
     "output_type": "stream",
     "text": [
      "Num:C5:SC1\n"
     ]
    }
   ],
   "source": [
    "print((result[1])[\"y.id\"])"
   ]
  },
  {
   "cell_type": "code",
   "execution_count": 55,
   "metadata": {
    "collapsed": true
   },
   "outputs": [],
   "source": [
    "r=cypher.execute(\"MATCH path=shortestpath( (x:Concept{id:'Num:C5:SC1:MC2'}) -[r:isParentOf*..6]-(y:Concept{id:'numeracy'}) ) RETURN length(path) as d\")"
   ]
  },
  {
   "cell_type": "code",
   "execution_count": 57,
   "metadata": {
    "collapsed": false
   },
   "outputs": [
    {
     "name": "stdout",
     "output_type": "stream",
     "text": [
      "3\n"
     ]
    }
   ],
   "source": [
    "print(r[0].d)"
   ]
  },
  {
   "cell_type": "code",
   "execution_count": 59,
   "metadata": {
    "collapsed": false
   },
   "outputs": [],
   "source": [
    "import requests\n",
    "url=\"http://lp-sandbox.ekstep.org:8080/taxonomy-service/v2/analytics/domain/map\"\n",
    "resp = requests.get(url).json()\n",
    "# move all concepts\n",
    "conceptList = resp[\"result\"][\"concepts\"]"
   ]
  },
  {
   "cell_type": "code",
   "execution_count": 65,
   "metadata": {
    "collapsed": false
   },
   "outputs": [
    {
     "name": "stdout",
     "output_type": "stream",
     "text": [
      "Domain\n"
     ]
    }
   ],
   "source": [
    "print conceptList[0]['objectType']"
   ]
  },
  {
   "cell_type": "code",
   "execution_count": 72,
   "metadata": {
    "collapsed": true
   },
   "outputs": [],
   "source": [
    "# from neo4j, get list of concepts and content and create \"forced\" mapping between them\n",
    "A=cypher.execute(\"MATCH (x:Concept) RETURN x.id as concept\")\n",
    "B=cypher.execute(\"MATCH (x:Content) RETURN x.id as content\")"
   ]
  },
  {
   "cell_type": "code",
   "execution_count": 82,
   "metadata": {
    "collapsed": false
   },
   "outputs": [
    {
     "data": {
      "text/plain": [
       "u'org.ekstep.mar8.story'"
      ]
     },
     "execution_count": 82,
     "metadata": {},
     "output_type": "execute_result"
    }
   ],
   "source": [
    "B[1].content"
   ]
  },
  {
   "cell_type": "code",
   "execution_count": 77,
   "metadata": {
    "collapsed": false
   },
   "outputs": [
    {
     "data": {
      "text/plain": [
       "3"
      ]
     },
     "execution_count": 77,
     "metadata": {},
     "output_type": "execute_result"
    }
   ],
   "source": [
    "import random;\n",
    "random.randint(1,10)"
   ]
  },
  {
   "cell_type": "code",
   "execution_count": 83,
   "metadata": {
    "collapsed": false
   },
   "outputs": [
    {
     "name": "stdout",
     "output_type": "stream",
     "text": [
      "2\n"
     ]
    }
   ],
   "source": [
    "print 2"
   ]
  },
  {
   "cell_type": "code",
   "execution_count": 84,
   "metadata": {
    "collapsed": true
   },
   "outputs": [],
   "source": [
    "%matplotlib inline"
   ]
  },
  {
   "cell_type": "code",
   "execution_count": 85,
   "metadata": {
    "collapsed": true
   },
   "outputs": [],
   "source": [
    "import csv\n",
    "import sys\n",
    "import collections\n",
    "import os.path\n",
    "import requests\n",
    "\n",
    "# matplotlib for plotting\n",
    "import matplotlib.pyplot as plt\n",
    "%matplotlib inline\n",
    "\n",
    "\n",
    "# on exit clean-ups\n",
    "import atexit\n",
    "\n",
    "# cassandra libs\n",
    "from cassandra.cluster import Cluster\n",
    "from cassandra.query import dict_factory\n",
    "\n",
    "\n",
    "# neo4j libs\n",
    "from py2neo import Graph\n",
    "from py2neo import Node, Relationship\n",
    "\n",
    "# neo4j graph connector\n",
    "graph = Graph()\n",
    "# delete entire graph\n",
    "\n",
    "\n",
    "# bool flag database connections\n",
    "cassandraDbOn=False\n",
    "neo4jDbOn=False\n",
    "\n",
    "def dbCleanUP(cassandraDbOn,neo4jDbOn):\n",
    "    if cassandraDbOn:\n",
    "    \tprint 'cleaning Cassandra state'\n",
    "    \tsession.shutdown();\n",
    "    \tcluster.shutdown();\n",
    "\n",
    "atexit.register(dbCleanUP,True,True)\n",
    "\n",
    "# # read-csv learner proficiency table\n",
    "# read_file = './data/CassandraLearnerProficiency.csv'\n",
    "\n",
    "# # first pass to get the list of students and graders\n",
    "# with open(read_file,'rb') as grade_file:\n",
    "# \tfor line in grade_file:\n",
    "# \t\tline = line.rstrip()\n",
    "# \t\tnames = line.split(',')\n",
    "\t\t\n",
    "# for name in names:\n",
    "# \tprint(name)\n",
    "\n",
    "\n",
    "# setup cassandra connection\n",
    "cassandraDbOn=True\n",
    "cluster = Cluster()\n",
    "session = cluster.connect('learner_db')\n",
    "\n",
    "# set response schema to Dictionaries\n",
    "session.row_factory = dict_factory\n"
   ]
  },
  {
   "cell_type": "code",
   "execution_count": 87,
   "metadata": {
    "collapsed": true
   },
   "outputs": [],
   "source": [
    "lids = session.execute(\"SELECT DISTINCT learner_id from learnerconceptrelevance\")"
   ]
  },
  {
   "cell_type": "code",
   "execution_count": 88,
   "metadata": {
    "collapsed": false
   },
   "outputs": [
    {
     "name": "stdout",
     "output_type": "stream",
     "text": [
      "-- above--- only KS\n",
      "KS,P,TS: 1,1,1 below, TSP is derived from concept-proficiency table\n",
      "learner is:9a221916-3f2c-4a83-baef-28b10bbec9f7\n",
      "concept relevancy scores:\n",
      "top 10 recommended concepts are:\n",
      "[(u'numeracy', 0.014550477230203827), (u'Num:C3', 0.012751711407475046), (u'Num:C4', 0.012474141279003127), (u'Num:C1', 0.01167472842847007), (u'Num:C2', 0.011432828782213356), (u'Num:C5', 0.0103051615546863), (u'Num:C3:SC1', 0.009216161134498973), (u'Num:C3:SC2', 0.008630555361020321), (u'Num:C3:SC3', 0.008630555361020321), (u'Num:C3:SC7', 0.008591513778599102)]\n",
      "bottom 10 recommended concepts are:\n",
      "[(u'LO26', 6.108052678090068e-06), (u'LO27', 6.974414798894649e-06), (u'LT05', 1.0856118094734877e-05), (u'LT01', 1.107708806583382e-05), (u'LT02', 1.107708806583382e-05), (u'LT03', 1.1920869458199398e-05), (u'LT04', 1.1920869458199398e-05), (u'LT06', 1.2358394771166798e-05), (u'LT09', 1.2358394771166798e-05), (u'LT07', 1.258563300934473e-05)]\n",
      "top concepts:\n",
      "[(u'Num:C4:SC4:MC11', 0.71), (u'Num:C3:SC2:MC5', 0.6), (u'Num:C4:SC5:MC9', 0.6)]\n",
      "bottom concepts:\n",
      "[(u'Num:C3:SC2:MC5', 0.6), (u'Num:C4:SC5:MC9', 0.6), (u'Num:C4:SC4:MC11', 0.71)]\n"
     ]
    },
    {
     "data": {
      "image/png": "[encoded data removed]",
      "text/plain": [
       "<matplotlib.figure.Figure at 0x103aff2d0>"
      ]
     },
     "metadata": {},
     "output_type": "display_data"
    }
   ],
   "source": [
    "print(\"-- above--- only KS\")\n",
    "print(\"KS,P,TS: 1,1,1 below, TSP is derived from concept-proficiency table\")\n",
    "uid=(lids[6]['learner_id'])\n",
    "print(\"learner is:\"+uid)\n",
    "relDict3 = session.execute(\"SELECT relevance from learnerconceptrelevance WHERE learner_id='\" + uid + \"'\")[0]['relevance']\n",
    "# read relevancy screo tables\n",
    "y3 = relDict3.values()\n",
    "print(\"concept relevancy scores:\")\n",
    "plt.plot(y3)\n",
    "print(\"top 10 recommended concepts are:\")\n",
    "print(sorted(relDict3.items(), key=lambda x: x[1],reverse=True)[:10])\n",
    "print(\"bottom 10 recommended concepts are:\")\n",
    "print(sorted(relDict3.items(), key=lambda x: x[1])[:10])\n",
    "\n",
    "profDict = session.execute(\"SELECT proficiency from learnerproficiency WHERE learner_id='\" + uid + \"'\")[0]['proficiency']\n",
    "n=len(profDict)\n",
    "if n>0:\n",
    "    k=min(5,n)\n",
    "    print(\"top concepts:\")\n",
    "    print(sorted(profDict.items(), key=lambda x: x[1],reverse=True)[:k])\n",
    "    print(\"bottom concepts:\")\n",
    "    print(sorted(profDict.items(), key=lambda x: x[1])[:k])"
   ]
  },
  {
   "cell_type": "code",
   "execution_count": null,
   "metadata": {
    "collapsed": true
   },
   "outputs": [],
   "source": []
  }
 ],
 "metadata": {
  "kernelspec": {
   "display_name": "Python 2",
   "language": "python",
   "name": "python2"
  },
  "language_info": {
   "codemirror_mode": {
    "name": "ipython",
    "version": 2
   },
   "file_extension": ".py",
   "mimetype": "text/x-python",
   "name": "python",
   "nbconvert_exporter": "python",
   "pygments_lexer": "ipython2",
   "version": "2.7.10"
  }
 },
 "nbformat": 4,
 "nbformat_minor": 0
}
