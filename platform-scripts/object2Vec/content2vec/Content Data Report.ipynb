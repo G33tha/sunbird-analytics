{
 "cells": [
  {
   "cell_type": "markdown",
   "metadata": {},
   "source": [
    "# Initialisation"
   ]
  },
  {
   "cell_type": "code",
   "execution_count": 1,
   "metadata": {
    "collapsed": false
   },
   "outputs": [],
   "source": [
    "import csv\n",
    "import sys\n",
    "import collections\n",
    "import os.path\n",
    "import requests\n",
    "baseURL = \"http://lp-sandbox.ekstep.org:8080/taxonomy-service/v2/analytics/getContent/\"\n",
    "listURL = \"http://lp-sandbox.ekstep.org:8080/taxonomy-service/v2/analytics/content/list\"\n",
    "url = listURL\n",
    "resp = requests.get(url).json()"
   ]
  },
  {
   "cell_type": "markdown",
   "metadata": {},
   "source": [
    "# Exploration- Top Level"
   ]
  },
  {
   "cell_type": "code",
   "execution_count": 2,
   "metadata": {
    "collapsed": false
   },
   "outputs": [
    {
     "data": {
      "text/plain": [
       "dict_keys(['ver', 'responseCode', 'result', 'params', 'ts', 'id'])"
      ]
     },
     "execution_count": 2,
     "metadata": {},
     "output_type": "execute_result"
    }
   ],
   "source": [
    "resp.keys()"
   ]
  },
  {
   "cell_type": "code",
   "execution_count": 3,
   "metadata": {
    "collapsed": false
   },
   "outputs": [
    {
     "name": "stdout",
     "output_type": "stream",
     "text": [
      "Result:\n",
      "dict_keys(['contents'])\n",
      "\n",
      "Response Code:\n",
      "OK\n",
      "\n",
      "ID:\n",
      "getContentList\n",
      "\n",
      "Version:\n",
      "2.0\n",
      "\n",
      "TS:\n",
      "2016-05-23T10:32:07ZZ\n",
      "\n",
      "Paramters:\n",
      "dict_keys(['msgid', 'status', 'resmsgid', 'errmsg', 'err'])\n"
     ]
    }
   ],
   "source": [
    "print(\"Result:\")\n",
    "print(resp[\"result\"].keys())\n",
    "print(\"\\nResponse Code:\")\n",
    "print(resp[\"responseCode\"])\n",
    "print(\"\\nID:\")\n",
    "print(resp[\"id\"])\n",
    "print(\"\\nVersion:\")\n",
    "print(resp[\"ver\"])\n",
    "print(\"\\nTS:\")\n",
    "print(resp[\"ts\"])\n",
    "print(\"\\nParamters:\")\n",
    "print(resp[\"params\"].keys())"
   ]
  },
  {
   "cell_type": "markdown",
   "metadata": {},
   "source": [
    "# Keys"
   ]
  },
  {
   "cell_type": "markdown",
   "metadata": {},
   "source": [
    "## Get All Keys\n"
   ]
  },
  {
   "cell_type": "code",
   "execution_count": 4,
   "metadata": {
    "collapsed": false
   },
   "outputs": [],
   "source": [
    "contentList = resp[\"result\"][\"contents\"]\n",
    "tot_key=[]\n",
    "for i in contentList:\n",
    "    a=list(i.keys())\n",
    "    for j in a:\n",
    "        try:\n",
    "            tot_key.index(j)\n",
    "        except ValueError:\n",
    "            tot_key.append(j)        "
   ]
  },
  {
   "cell_type": "code",
   "execution_count": 5,
   "metadata": {
    "collapsed": false
   },
   "outputs": [
    {
     "name": "stdout",
     "output_type": "stream",
     "text": [
      "['language', 'pkgVersion', 'createdOn', 'concepts', 'name', 'license', 'ageGroup', 'portalOwner', 'owner', 'publisher', 'idealScreenDensity', 'mediaType', 'tags', 'developer', 'osId', 'code', 'gradeLevel', 'visibility', 'source', 'idealScreenSize', 'contentType', 'lastPublishedOn', 'lastUpdatedOn', 'status', 'os', 'mimeType', 'size', 'identifier', 'downloadUrl', 'description', 'artifactUrl', 's3Key', 'genre', 'subject', 'popularity', 'appIcon', 'communication_scheme', 'launchUrl', 'activity_class', 'grayScaleAppIcon', 'Subject', 'posterImage', 'format', 'filter', 'languageCode', 'learningObjective', 'keywords', 'domain', 'voiceCredits', 'illustrators', 'text', 'objectsUsed', 'author', 'template', 'collaborators', 'purpose', 'learnerLevel', 'imageCredits', 'soundCredits', 'templateType', 'lastPublishDate', 'copyright', 'appIconLabel', 'cost', 'model_sample', 'templateName']\n"
     ]
    }
   ],
   "source": [
    "print(tot_key)"
   ]
  },
  {
   "cell_type": "markdown",
   "metadata": {},
   "source": [
    "## Get Number of Records in Which Fields of a Key are Empty \n"
   ]
  },
  {
   "cell_type": "code",
   "execution_count": 6,
   "metadata": {
    "collapsed": false
   },
   "outputs": [],
   "source": [
    "def count_values(keyword):\n",
    "    for k in keyword:\n",
    "        count_total=0\n",
    "        for i in contentList:\n",
    "            try:\n",
    "                if(isinstance(i[k],list)):\n",
    "                    if(len(i[k])!=0):\n",
    "                        count_total+=1\n",
    "                else:\n",
    "                    count_total+=1\n",
    "                t=type(i[k])\n",
    "            except KeyError:\n",
    "                ;\n",
    "        print(t,\" \", k,\" \",count_total)"
   ]
  },
  {
   "cell_type": "code",
   "execution_count": 7,
   "metadata": {
    "collapsed": false
   },
   "outputs": [
    {
     "name": "stdout",
     "output_type": "stream",
     "text": [
      "<class 'list'>   language   460\n",
      "<class 'int'>   pkgVersion   436\n",
      "<class 'str'>   createdOn   370\n",
      "<class 'list'>   concepts   49\n",
      "<class 'str'>   name   460\n",
      "<class 'str'>   license   460\n",
      "<class 'list'>   ageGroup   460\n",
      "<class 'str'>   portalOwner   460\n",
      "<class 'str'>   owner   460\n",
      "<class 'str'>   publisher   460\n",
      "<class 'str'>   idealScreenDensity   460\n",
      "<class 'str'>   mediaType   460\n",
      "<class 'list'>   tags   137\n",
      "<class 'str'>   developer   460\n",
      "<class 'str'>   osId   458\n",
      "<class 'str'>   code   460\n",
      "<class 'list'>   gradeLevel   460\n",
      "<class 'str'>   visibility   460\n",
      "<class 'str'>   source   460\n",
      "<class 'str'>   idealScreenSize   460\n",
      "<class 'str'>   contentType   460\n",
      "<class 'str'>   lastPublishedOn   459\n",
      "<class 'str'>   lastUpdatedOn   460\n",
      "<class 'str'>   status   460\n",
      "<class 'list'>   os   460\n",
      "<class 'str'>   mimeType   460\n",
      "<class 'float'>   size   423\n",
      "<class 'str'>   identifier   460\n",
      "<class 'str'>   downloadUrl   428\n",
      "<class 'str'>   description   283\n",
      "<class 'str'>   artifactUrl   191\n",
      "<class 'str'>   s3Key   294\n",
      "<class 'list'>   genre   66\n",
      "<class 'str'>   subject   121\n",
      "<class 'int'>   popularity   124\n",
      "<class 'str'>   appIcon   155\n",
      "<class 'str'>   communication_scheme   62\n",
      "<class 'str'>   launchUrl   53\n",
      "<class 'str'>   activity_class   50\n",
      "<class 'str'>   grayScaleAppIcon   9\n",
      "<class 'str'>   Subject   19\n",
      "<class 'str'>   posterImage   24\n",
      "<class 'str'>   format   68\n",
      "<class 'str'>   filter   9\n",
      "<class 'str'>   languageCode   2\n",
      "<class 'list'>   learningObjective   9\n",
      "<class 'list'>   keywords   9\n",
      "<class 'str'>   domain   45\n",
      "<class 'list'>   voiceCredits   14\n",
      "<class 'list'>   illustrators   9\n",
      "<class 'list'>   text   9\n",
      "<class 'list'>   objectsUsed   9\n",
      "<class 'str'>   author   9\n",
      "<class 'str'>   template   27\n",
      "<class 'list'>   collaborators   23\n",
      "<class 'str'>   purpose   4\n",
      "<class 'str'>   learnerLevel   3\n",
      "<class 'list'>   imageCredits   32\n",
      "<class 'list'>   soundCredits   20\n",
      "<class 'str'>   templateType   1\n",
      "<class 'str'>   lastPublishDate   30\n",
      "<class 'str'>   copyright   3\n",
      "<class 'str'>   appIconLabel   3\n",
      "<class 'str'>   cost   3\n",
      "<class 'str'>   model_sample   1\n",
      "<class 'str'>   templateName   1\n"
     ]
    }
   ],
   "source": [
    "count_values(tot_key)"
   ]
  },
  {
   "cell_type": "markdown",
   "metadata": {},
   "source": [
    "## Get Number of Unique Values"
   ]
  },
  {
   "cell_type": "code",
   "execution_count": 8,
   "metadata": {
    "collapsed": true
   },
   "outputs": [],
   "source": [
    "def number_of_unique_values(keyword):\n",
    "    r={}\n",
    "    for k in keyword:\n",
    "        x=[]\n",
    "        for i in contentList:\n",
    "            try:\n",
    "                if(isinstance(i[k],list)):\n",
    "                    for j in i[k]:\n",
    "                        try:\n",
    "                            x.index(j)\n",
    "                        except ValueError:\n",
    "                            x.append(j)\n",
    "                else:\n",
    "                    try:\n",
    "                        x.index(i[k])\n",
    "                    except ValueError:\n",
    "                        x.append(i[k])\n",
    "            except KeyError:\n",
    "                ;\n",
    "        print(k,\" \",len(x))"
   ]
  },
  {
   "cell_type": "code",
   "execution_count": 9,
   "metadata": {
    "collapsed": false
   },
   "outputs": [
    {
     "name": "stdout",
     "output_type": "stream",
     "text": [
      "language   9\n",
      "pkgVersion   17\n",
      "createdOn   370\n",
      "concepts   34\n",
      "name   325\n",
      "license   1\n",
      "ageGroup   7\n",
      "portalOwner   3\n",
      "owner   26\n",
      "publisher   7\n",
      "idealScreenDensity   1\n",
      "mediaType   2\n",
      "tags   124\n",
      "developer   11\n",
      "osId   14\n",
      "code   232\n",
      "gradeLevel   7\n",
      "visibility   2\n",
      "source   2\n",
      "idealScreenSize   1\n",
      "contentType   4\n",
      "lastPublishedOn   459\n",
      "lastUpdatedOn   460\n",
      "status   1\n",
      "os   2\n",
      "mimeType   4\n",
      "size   257\n",
      "identifier   460\n",
      "downloadUrl   295\n",
      "description   175\n",
      "artifactUrl   191\n",
      "s3Key   294\n",
      "genre   12\n",
      "subject   3\n",
      "popularity   60\n",
      "appIcon   139\n",
      "communication_scheme   2\n",
      "launchUrl   8\n",
      "activity_class   3\n",
      "grayScaleAppIcon   9\n",
      "Subject   1\n",
      "posterImage   23\n",
      "format   2\n",
      "filter   9\n",
      "languageCode   2\n",
      "learningObjective   1\n",
      "keywords   98\n",
      "domain   2\n",
      "voiceCredits   11\n",
      "illustrators   8\n",
      "text   83\n",
      "objectsUsed   57\n",
      "author   5\n",
      "template   15\n",
      "collaborators   27\n",
      "purpose   3\n",
      "learnerLevel   2\n",
      "imageCredits   35\n",
      "soundCredits   9\n",
      "templateType   1\n",
      "lastPublishDate   30\n",
      "copyright   1\n",
      "appIconLabel   3\n",
      "cost   1\n",
      "model_sample   1\n",
      "templateName   1\n"
     ]
    }
   ],
   "source": [
    "number_of_unique_values(tot_key)"
   ]
  },
  {
   "cell_type": "markdown",
   "metadata": {},
   "source": [
    "## Dividing the Keys (Basis their Values and Number of Distinct Values)"
   ]
  },
  {
   "cell_type": "code",
   "execution_count": 10,
   "metadata": {
    "collapsed": true
   },
   "outputs": [],
   "source": [
    "#Useful and Few Distinct Values\n",
    "keys_1=[\"ageGroup\",\"contentType\",\"gradeLevel\",\"languageCode\",\"language\",\"developer\",\"publisher\",\"author\",\n",
    "        \"illustrators\",\"genre\",\"subject\",\"Subject\",\"domain\",\"popularity\",\"filter\"]\n",
    "#Merge language and languageCode\n",
    "#Merge subject,domain and Subject"
   ]
  },
  {
   "cell_type": "code",
   "execution_count": 11,
   "metadata": {
    "collapsed": true
   },
   "outputs": [],
   "source": [
    "#Useful But Many Distinct Values\n",
    "keys_2=[\"owner\",\"concepts\",\"description\",\"text\",\"objectsUsed\",\"keywords\",\"tags\"]"
   ]
  },
  {
   "cell_type": "code",
   "execution_count": 12,
   "metadata": {
    "collapsed": true
   },
   "outputs": [],
   "source": [
    "#Not useful\n",
    "keys_3=[\"learningObjective\",\"status\",\"license\",\"osId\",\"visibility\",\"activity_class\",\"format\",\"communication_scheme\",\n",
    "        \"idealScreenSize\",\"idealScreenDensity\",\"mimeType\",\"code\",\"size\",\"name\",\"downloadUrl\",\"identifier\"\"lastUpdatedOn\",\n",
    "        \"lastPublishedOn\",\"createdOn\",\"artifactUrl\",\"s3Key\",\"appIcon\"\"template\",\"collaborators\",\"lastPublishDate\",\n",
    "        \"appIconLabel\",\"copyright\",\"model_sample\"]"
   ]
  },
  {
   "cell_type": "code",
   "execution_count": 13,
   "metadata": {
    "collapsed": true
   },
   "outputs": [],
   "source": [
    "#Not sure: Could be useful in the future\n",
    "keys_4=[\"portalOwner\",\"os\",\"source\",\"mediaType\",\"pkgVersion\",\"launchUrl\",\"soundCredits\",\"imageCredits\",\"voiceCredits\",\n",
    "        \"learnerLevel\",\"purpose\",\"templateType\",\"templateName\",\"cost\"]\n",
    "# learnerLevel has only two duplicate keys currently\n",
    "# purpose has only three duplicate keys but may be useful in future\n",
    "# merge templatename and templatetype"
   ]
  },
  {
   "cell_type": "code",
   "execution_count": 16,
   "metadata": {
    "collapsed": false
   },
   "outputs": [],
   "source": [
    "def list_of_values(keyword):\n",
    "    for k in keyword:\n",
    "        x=[]\n",
    "        for i in contentList:\n",
    "            try:\n",
    "                if(isinstance(i[k],list)):\n",
    "                    for j in i[k]:\n",
    "                        try:\n",
    "                            x.index(j)\n",
    "                        except ValueError:\n",
    "                            x.append(j)\n",
    "                else:\n",
    "                    try:\n",
    "                        x.index(i[k])\n",
    "                    except ValueError:\n",
    "                        x.append(i[k])\n",
    "            except KeyError:\n",
    "                ;\n",
    "        print(k)\n",
    "        print(x)"
   ]
  },
  {
   "cell_type": "code",
   "execution_count": 17,
   "metadata": {
    "collapsed": false
   },
   "outputs": [
    {
     "name": "stdout",
     "output_type": "stream",
     "text": [
      "ageGroup\n",
      "['5-6', '<5', '6-7', '7-8', '8-10', '>10', 'Other']\n",
      "contentType\n",
      "['Story', 'Game', 'Worksheet', 'Collection']\n",
      "gradeLevel\n",
      "['Grade 1', 'Kindergarten', 'Grade 2', 'Grade 3', 'Grade 4', 'Grade 5', 'Other']\n",
      "languageCode\n",
      "['en', 'hi']\n",
      "language\n",
      "['English', 'Hindi', 'Kannada', 'Other', 'hindi', 'kannada', 'Marathi', 'Bengali', 'Telugu']\n",
      "developer\n",
      "['EkStep', 'EKSTEP', 'GWL', 'Keepworks', 'Pratham', 'Center for Game Science', 'Filament Games', 'GoodWork Labs', 'KeepWorks', 'Glasslabs / GWL', 'AKSHARA']\n",
      "publisher\n",
      "['EkStep', 'Twin Sisters, Mangoreader', 'Twin Sisters, MangoReader', 'Pratham Books, MangoReader', 'Aadarsh Publication, MangoReader', 'Mangoreader', 'Twin Sisters, Tara Larsen Chang']\n",
      "author\n",
      "['Kim Mitzo Thompson, Karen Mitzo Hilderbrand', 'Anupa Lal', 'Kim Thompson, Bailey Thompson', 'Suvarna Bhajanka', 'Dugald A Steer']\n",
      "illustrators\n",
      "['Roberta Collier-Morales', 'Ron Kauffman', 'Jackie Binder', 'Suvidha Mistry', 'Dorothy Stott', 'MangoReader', 'Nayna Vispute', 'Tara Larsen Chang']\n",
      "genre\n",
      "['Picture Books', 'Chapter Books', 'Flash Cards', 'Serial Books', 'Alphabet Books', 'Folktales', 'Fiction', 'Non-Fiction', 'Poems/Rhymes', 'Plays', 'Comics', 'Words']\n",
      "subject\n",
      "['literacy', 'numeracy', 'domain']\n",
      "Subject\n",
      "['numeracy']\n",
      "domain\n",
      "['literacy', 'numeracy']\n",
      "popularity\n",
      "[20, 188, 37, 219, 147, 139, 27, 206, 185, 58, 68, 32, 23, 52, 41, 21, 33, 174, 202, 18, 12, 14, 17, 19, 232, 40, 8, 5, 9, 73, 149, 162, 1, 2, 3, 400, 154, 26, 30, 15, 16, 31, 7, 120, 189, 35, 24, 43, 145, 44, 22, 194, 178, 25, 6, 11, 4, 284, 115, 889]\n",
      "filter\n",
      "['[\"esl\"]', '[\"english_stories_sample\"]', '[\"english_stories\"]', '[\"hindi_num_activities\"]', '[\"english_num_activities\"]', '[\"hindi_reading_week\"]', '[\"hindi_stories\"]', '[\"hindi_lit_activities\"]', '[\"testing\"]']\n"
     ]
    }
   ],
   "source": [
    "list_of_values(keys_1)"
   ]
  },
  {
   "cell_type": "code",
   "execution_count": 18,
   "metadata": {
    "collapsed": false
   },
   "outputs": [
    {
     "name": "stdout",
     "output_type": "stream",
     "text": [
      "owner\n",
      "['EkStep', 'EKSTEP', 'Kim Mitzo Thompson, Karen Mitzo Hilderbrand', '80', '246', 'Anupa Lal', 'Kim Thompson, Bailey Thompson', 'Suvarna Bhajanka', '215', 'Dugald A Steer', '104', '274', '210', 'Pratham', '275', 'Center for Game Science', 'Ek Step', '239', '345', 'AKSHARA', '373', '374', '346', '375', '142', '216']\n",
      "concepts\n",
      "['LO51', 'LO52', 'Num:C1:SC2:MC12', 'LO6', 'LO41', 'domain_13578', 'Num:C3:SC2', 'Num:C4:SC4:MC8', 'TEST_CONCEPT', 'LO37', 'LO25', 'LO24', 'LO1', 'LO46', 'LT11', 'LO3', 'LO16', 'LO15', 'Num:C3:SC2:MC3', 'domain_13219', 'Num:C4:SC4:MC7', 'LO39', 'domain_13283', 'domain_13577', 'LO28', 'domain_13544', 'LO10', 'Num:C2:SC1:MC3', 'Num:C2:SC1', 'Num:C2:SC1:MC9', 'Num:C2:SC2:MC7', 'Num:C1:SC2:MC6', 'LO31', 'LO7']\n",
      "description\n",
      "['Test Story', 'शेर का साथी हाथी', 'संख्या चार्ट', 'वस्तुओ का जोड़', 'दुकान-दुकान', 'समय', 'कम या ज़्यादा', 'Counting In Groups', 'गिनती', \"Elephant's Wedding (English)\", 'Test_QA', 'The Moon and the Cap', 'Annual Haircut Day', 'tell me now - colours', 'my family', 'Listen to my body', 'How to Weigh an Elephant', 'Flying High', 'tell me now- happy and sad', \"Elephant's Wedding (Sensibol)\", 'Zoo Manners', 'English as Second Language Part 1', 'Tell Me Now- Happy and Sad', 'Annual Haircut Day (Non-interactive)', 'Moon and the Cap', 'Joy', 'tell me now - sweet and sour', 'the tree', 'vayu the wind', 'Molestiae dolorem consequatur? Ex doloremque ducimus, facere minim laborum dolor magna pariatur? Ut facilis ut velit ratione libero.', 'Pratham Stories Day 1', 'GridLayout Test Book', 'Audio Test Book', 'What happens when five little skunks are taken out on a picnic one fine day- without a close eye watching them? Find out in this silly, interactive book! Young readers will laugh as when they discover what the little skunks will cause.\\r\\n Published by MangoSense.', \"Elephant's Wedding (Hindi)\", 'Worksheet for children of Grade 4 and Grade 5', 'Join David as he wins an unlikely fight with Goliath, the giant. This classic Old Testament story teaches children that anything is possible with God on your side. Between the book’s captivating illustrations and easy-to-read text, young readers will find it simple to understand this important lesson. Published by MangoSense.', 'CROW STORY', 'Drag and drop', 'Learn day-to-day words with this adorable book from the Baby’s First Books Collection. Each word is paired with an adorable illustration to help baby with word association, and the black and white art complimented with a burst of color will capture baby’s attention.\\r\\n Published by MangoSense.', 'The lion is one of the five big cats in the genus Panthera and a member of the family Felidae. The commonly used term African lion collectively denotes the several subspecies found in Africa.', 'MMM! All of the food that Grandma is cooking looks yummy! Young learners will be taught how to say the names of various foods and drinks in this interactive book filled with reassuring illustrations. Published by MangoSense.', 'Build a TestCase', 'English Stories Collection', \"What's new in the latest genie\", 'Elephant and the Monkey', 'Test Game', 'Would you like to have a very special friend? Look into this book and you may find that you already have a very special friend! Published by MangoSense.', 'With a gentle kiss, Mama Bear puts Little Bear to bed. “I love you” turns into a precious game between Mama Bear and Little Bear, as they come up with many “I love you more” ideas. Make this tender book part of your bedtime routine then create your own “I love you more” examples with your child! Published by MangoSense.', 'Iteration 36-1', 'Goople, the alien friend of Purple visits Purple after a long time and takes time to another adventure ride. Together they take a trip to inside earth through a famous volcano. Read their adventure story Published by MangoSense.', 'हिन्दी कहानियाँ भाग 6', 'हिन्दी कहानियाँ भाग 5', 'हिन्दी कहानियाँ भाग 4', 'हिन्दी कहानियाँ भाग 3', 'हिन्दी कहानियाँ भाग 2', 'हिन्दी कहानियाँ भाग 1', 'Jhoola', 'मैं कौन हूँ', 'Custom Plugins Showcase', 'Iteration 36', 'Test', 'Summary check', 'Grid Plugin Showcase', 'MCQ Template', 'Indic Font Validator', 'हिन्दी कहानियाँ भाग  2', 'The Little Christmas Tree is a cute book to read to your children this holiday season. It is a story of a little fir tree who dreamt of growing up so that he could Christmas tree among humans. Read the story to find out if the little fir tree made it to a home.  Published by MangoSense.', 'Foundational Content Test Lesson 1', 'Foundational Content Test Lesson 2', 'Foundational Content Test', 'Foundational Content Test Module 1', 'Elit, illo a laborum. Cumque blanditiis tempore, autem corporis ea sed eos, nulla aliquip.', 'HTML Test Content.Please do not retire or delete. Created by Suren for testing purpose.', 'Publishing a story for Apr6 E2E testing. ', 'Story of Sarah who went in search of treasure and returns with a pet tortoise.', 'A little girl called Kali', 'Join Mary, Joseph, the shepherds and the angels as they celebrate the birth of Jesus. This softy-illustrated book teaches young readers about Jesus’ birth and the real meaning of Christmas. Published by MangoSense.', 'रुपये पैसे ', 'Test Story1', 'तारीख. अभ्यास', 'घारिता अभ्यास', 'जोड़ अभ्यास', 'भिन्न अभ्यास', \"English as Second Language- 'at' sounds\", 'Test Content', 'a sample story to check if a version upgrade can be side-loaded in Genie', 'test data', 'Iteration 37', 'Testing auth tool', 'E2E Nested Collection ', 'Worksheet in E2E collection', 'Collection to test E2E flow', 'Test Content 1', 'This is a Git Hub Tutorial', 'A Kannada story about vegetables', 'QA', 'गुणा अभ्यास', 'math logic4', 'घटा अभ्यास', 'Pratham partner app', 'Days of the Week', 'रुपए पैसे अभ्यास ', 'Worksheet to test end to end flow of content creation to telemetry sync for the content. ', 'E2E Test Story with MCQ', 'Check for review content', 'Teaching 9 alphabets and 2 matras ', 'I am trying to see if I can successfully translate one story from English to Hindi', 'Trying to translate a story from English to Marathi', 'Counting Apples for Children', 'रुपये पैसे 2', 'Basic reading skills for non-English speaker, level 1', 'एकदा एक गाढव रानात भटकत होते. फिरता फिरता त्याच्या पायाला एक काटा बोचला. तो काटा काही त्याला काढता येईना. तेवढ्यात तिकडून एक लांडगा येताना त्याला दिसला. गाढव नम्रपणे त्याला म्हणाले, ‘वैदयबुवा! कृपा करून माझ्या पायातला हा काटा आपण काढून दया.’ लांडग्याने ते ऐकले आणि त्याच्या पायातला काटा काढून दिला. परंतु, त्या दुष्ट गाढवाने लगेच एक लाथ लांडग्याच्या तोंडावर मारली आणि कोलमडून पडलेल्या लांडग्याकडे बघत ते मजेने निघून गेले.\\r\\n', \"A touching yet funny tale about Greater SAilash's most efficient domestic help who wanted to buy a television from a super store named 'NEXT'.\", 'Level 2 Kannada story', 'Pratham Mysore Level  1 Saralakshara Story ', 'Elephant and Rabbit story ', 'PRW MCQ test', 'Test Extract Story 1', 'Testing', 'PRW Item Template', 'Test ', 'This is a baseline test for Std 1 covering Numeracy and Literacy', 'Hindi Words', 'MCQ Test New1', 'barak', 'Latest MCQ', 'content', 'रेल्वे कहानी रेल्वे कहानी रेल्वे कहानी रेल्वे कहानी रेल्वे कहानी रेल्वे कहानी ', 'test', 'As requested by Harish', 'Treefrog Treasure (ages 4+) is a platformer game that allows players to explore different worlds as a frog and learn basic numeracy and numberline concepts. When certain obstacles are reached, a player must properly identify a target symbol, discrete representation, or whole number on a numberline to collect gems and complete the level.  Hints are provided to help the player reach the correct answer when mistakes are made.', 'Place Value Addition Subtraction Game', 'game based on flankers test', 'Testing mcq', 'Ordinal numbers', 'Camp 1 - Basic Story #1', 'Aser..', 'Count chk', \"The broad screener which will help determine a child's level from Premath to Grade 5. The game has a question bank for each level and it will adapt bsaed on child's response. The level of child can be determined in less than 5 minutes using this adaptive gamified assessment. It checks for conceptual understanding\", 'FTB 13th', \"EkStep Literacy Screener is an assessment tool that measures a primary school child's awareness and competency across multiple components of literacy viz.vocabulary, Akshara of Indian languages, decoding, reading and listening comprehension using a scientifically validated set of content items. The Screener attempts to place a child at a learning level and maps the lag/advance each child has against these components.\", 'A testing for all MCQ template', 'Learn to read some basic English Words with Nia. Swapnil Description. ', 'Once upon a time there was a kid name Mahesh living in small town of Nizamabad... Rest of the story in next version.', 'test mela', 'zxc', 'MCQ Test New', 'templets', 'मेघा अपने परिवार के साथ महाबलीपुरम  घुमने गई | रास्ते में कुछ रोचक बाते हुई | क्या क्या हुआ मेघा और उसके परिवार के साथ ? ', 'Match the following - Picture to Akshara Mapping for Telugu', 'AKSHARA PARTNER APP', '6 Stories in Kannada with consonants and vowels only', 'A small Telugu rhyme', \"ಕಮಲಳ ಸರ \\r\\n\\r\\nKamala's Necklace\", 'An engaging story that teaches early numbers. Very relevant for NCERT Class 2 Maths.', 'Read Along Sample Story', 'Practice counting numbers, understanding number sequence and the concept of more and less. Uses objects to teach numbers. Suitable for practice with NCERT books.', 'thisisthetitle', 'Flashcard', 'subtracta', \"Elephant's Wedding (Kannada)\", 'Story of a curious baby elephant who asks a lot of questions', 'ecar', '@story5', \"This story is about Pramod's cat\", 'adfsadafhttps://sandbox-community.ekstep.in/content/contentform/afsafasfas', 'monday', 'Nia the squirrel learns mathematics with animals, fruits, vegetables, foods, etc...', 'This content is a series created to test different kinds of content. This is to teach my 2 year old daughter Nia, how to do basic Math. This Particular one teaches children how to Count Numbers to 10', 'The Hare and The Tortoise Short Storyhttps://sandbox-community.ekstep.in/images/com_ekcontent/content/1.jpg', 'Use this module as a guide for teaching Math to students of Class 2. Especially relevant for Chapter 2 of NCERT Class 2 Chapter 2 - \"counting in groups\"', 'gkacontent', 'dasdsad', '@story4']\n",
      "text\n",
      "['Five little skunks went out with me on a picnic one fine day. We were looking for a shady spot to eat and a nice little place to play. But when I saw people running, and I looked around, \\xa0I was\\xa0quite\\xa0surprised to see- ', '\\xa0there were only four little skunks\\xa0walking along with me. One, two, three, four, Four little skunks went out with me on a picnic one fine day. We were looking for a shady spot to eat and a nice little place to play. But when I saw people running, and I looked around, I was quite surprised to see– ', 'there were only three little skunks walking along with me.\\xa0 One, two, three, oh… Three little skunks went out with me on a picnic one fine day. We were looking for a shady spot to eat and a nice little place to play. But when I saw people running, and I looked around, I was quite surprised to see– ', 'there were only two little skunks walking along with me. One, two, oh, oh… Two little skunks went out with me\\xa0on a picnic one fine day. We were looking for a shady spot to eat\\xa0and a nice little place to play. But when I saw people running,\\xa0and I looked around, I was quite surprised to see– ', 'there was only one little skunk walking along with me. One, oh, oh, oh… One little skunk went out with me on a picnic one fine day. We were looking for a shady spot to eat and a nice little place to play. But when I saw people running, and I looked around, I was quite surprised to see– ', 'there were no more little skunks walking along with me.  There were no more little skunks walking along with me.  Well, now, the people were gone, and the park was empty. It was quite a sight to see. The five little skunks— they had disappeared. There was no one left but me.  But, then I heard a funny noise and when I looked around, much to my surprise— five little skunks were standing there right before my very eyes! ', 'One, two, three, four five little skunks went out with me on a picnic one fine day. We were looking for a shady spot to eat and a nice little place to play. Well, we found a shady spot and we all sat down underneath a big old tree. And we had a picnic that day, the five little skunks and me! And we had a picnic that day, the five little skunks and me! ', \"Jesse was an old man with eight sons. David was his youngest son. David was a shepherd boy who liked to play his harp and look after his father's sheep. David also loved God and was very brave. \", 'One day while his older brothers were out in battle, David took them some food and water. Jesse knew his older sons would be hungry, and he wanted to find out how the battle was going. ', 'When David arrived, he saw that a battle between the Israelite and the Philistine armies was about to begin. Someone yelled, \"There is Goliath, the giant!\" ', 'Goliath was over nine feet tall. Goliath\\'s voice boomed, \"Who will fight me?\" ', 'All of the Israelite soldiers were afraid. But David wasn\\'t afraid. He stepped forward and said to King Saul, \"I will fight the giant!\" The King agreed. ', 'Later that day, David walked out to fight Goliath. David said, \"Even though you fight with a sword and a spear, I am not afraid. I fight you in the name of the Lord.\" Then, David placed a stone in his slingshot. He swung it around and around. The stone flew through the air and hit Goliath on his head. Goliath fell down. ', 'Everyone cheered because David had defeated the giant. ', 'Baby ', 'Bib ', 'Toy ', 'Duck ', 'Bottle ', 'Bath ', 'Socks ', 'Book ', 'This is my Grandma. She is a good cook. My family likes to eat dinner together. ', '“Please pass the chicken and rice,” Dad says. “Please pass the salad,” Mom says. ', '“I love the applesauce, Grandma,” I say. “Thank you.\\xa0Now eat some corn,\" Grandma says. ', '“May I have some bread and butter?” Grandpa asks. “Yes,” Grandma says. “And here are some beans.” ', '“Please pass me the milk,” my brother says. “Here you go,” Mom says. ', '“Did you make any dessert?” Dad asks. “Did you make any dessert?” Grandpa asks. ', '“Of course I made dessert,” Grandma says. “I made a great, big chocolate cake!” ', 'ನನ್ನ ಮೆಚ್ಚಿನ ಗೆಳತಿ ', 'ನನಗೆ ಒಬ್ಬಳು ಗೆಳತಿ ಇದ್ದಾಳೆ. ಅವಳು ನನ್ನ ಮನೆಯಲ್ಲೇ ಇರುತ್ತಾಳೆ. ', 'ನಾನು ಖುಷಿಯಾಗಿದ್ದಾಗ, ಅವಳೂ ಖುಷಿಯಾಗಿರುತ್ತಾಳೆ. ', 'ನಾನು ಅತ್ತರೆ, ಅವಳು ಜೊತೆಯಲ್ಲಿ ಅಳುತ್ತಾಳೆ. ', 'ಆದರೆ ನನಗೆ ಅವಳ ಧ್ವನಿ ಕೇಳಿಸುವುದಿಲ್ಲ. ನನ್ನ ಗೆಳತಿ ಕನ್ನಡಿಯ ಒಳಗೆ ಅವಿತಿದ್ದಾಳೆ. ', '\"ಹೊರಗೆ\\xa0ಬಾ, ಆಟ ಆಡೋಣ\" ಎಂದು ನಾನು ಹೇಳುತ್ತೇನೆ. ಅವಳು ಹೊರಗೆ ಬರುವುದಿಲ್ಲ. ', 'ನನಗೆ ದುಃಖವಾಗುತ್ತದೆ.\\xa0 ನಾನು ಮಲಗಲು ಹೋಗುತ್ತೇನೆ. ', 'ನನ್ನ ನಿದ್ದೆಯಲ್ಲಿ, ಅವಳು ಕನ್ನಡಿಯಿಂದ ಹೊರಗೆ ಬರುತ್ತಾಳೆ. ಆಗ ನಾವು ಬಹಳ ಮೋಜು ಮಾಡುತ್ತೇವೆ. ', 'ನಾವು ಆಟ ಆಡುತ್ತೇವೆ,\\xa0 ನಾವು\\xa0 ಓಡುತ್ತೇವೆ,\\xa0 ನಾವು ಒಟ್ಟಿಗೆ ಕೂಗುತ್ತೇವೆ, ಕಿರುಚುತ್ತೇವೆ. ', 'ನಾನು ಅವಳ ಜೊತೆ ಮಾತಾಡಿದರೆ, ಅವಳು ನನ್ನ ಜೊತೆ ಮಾತಾಡುತ್ತಾಳೆ. ', 'ಬೆಳಗಿನ ಹೊತ್ತು, ನನ್ನ ಗೆಳತಿ ಮತ್ತೆ ಕನ್ನಡಿಯ ಒಳಗೆ ಅವಿತುಬಿಡುತ್ತಾಳೆ. ', 'ಈಗ ನನಗೆ ಬೇಸರ ಆಗುವುದಿಲ್ಲ. ನಾವು ಕನಸಿನಲ್ಲಿ ಮತ್ತೆ ಆಟ ಆಡುತ್ತೇವೆ ಎಂದು ನನಗೆ ಗೊತ್ತು. ', '\"I love you Little Bear,\" Mama Bear said with a goodnight kiss. \"I love you more Mama,\" said Little Bear with a wide, sleepy yawn.\\xa0  \"Really?\" said Mama Bear. \"How much do you love me?\" ', '\"Well,\" said Little Bear, \"I love you more than rain drops falling softly from clouds so high.\" ', '\"And I love you more than all the stars that twinkle in the sky.\" ', '\"That\\'s a lot of love,\" said Mama Bear. \"Well, that\\'s not all Mama,\" said Little Bear. ', '\"I love you more than seashells that we find by the shore.\"\\xa0  \"I love you more than chocolate cake and I even love you more!\" ', '\"More than candles on my birthday cake, more than all the presents, too!\" ', '\"I love you more than all the animals that we visit at the zoo.\" ', 'That\\'s a lot of love said Mama Bear. \"Well that\\'s not all Mama,\" said Little Bear as he yawned and held Mama Bear tight. ', '\"I love you more than spring daffodils.\" \"More than a huge pile of fall leaves.\" ', 'I love you more than winter snow.\" ', '\"More than a cool, soft summer breeze.\" ', '\"More than one hundred lollipops.\"\\xa0 \"More than all my stuffed animals, too!\" ', '\"I love you more... I love you more... I only wish you knew.\" ', 'And with that, Little Bear fell fast asleep. ', 'Mama Bear gently pulled up the covers and tucked Little Bear in with a kiss. ', '\"I do know how much you love me,\" whispered Mama Bear. \"But, I love you more. And that\\'s a lot of love!\"\\xa0  Then, Mama Bear gently wiped her tears of joy, for her heart was so full of love. She turned and said, \"Good night!\" ', 'Purple was sitting in his room when he felt a tingling on his shell. He looked to see the purple stone that his friend Goople had given him, glowed brightly. “What’s happening?” wondered Purple. “Hello, my friend, it’s Goople. Can you hear me? When glowing, the purple stone can act like your Earth telephone. Wanted to tell you I’m on my way to visit. See you in a bit.”  Purple was excited, “It’s been a while since I found the little space alien, Goople, under my bed. I wonder what adventure we’ll do together. We had such fun the last time when he took me for a ride through the solar system.” ', 'A few minutes later, Purple heard a ra- tat- tat,\\xa0 ra- tat- tat on his window pane. It was Goople wearing a big smile on his face. Opening the window, Goople jumped inside. “Great to see you, my friend, “said Goople as he reached to shake Purple’s hand. It’s been a while. Thought it was time we went on another adventure.” “Yes, Goople,” it’s great to see you, too,” replied Purple. “Where are we going to go?” ', '“Hang on tight,” said Goople as he gestured for Purple to grab on to him, “we are off to Mount Vesuvius, Italy.” In a flash, Purple and Goople were flying through the air towards the famous volcano.” I was just reading about volcanoes,” said Purple. “Volcanoes are mountains with a crater or opening where gases, steam, rocks and lava can come out of the earth’s crust. There are about 1510 active volcanoes on Earth. At least 80 volcanoes are underneath the ocean. What are we going to do at Mount Vesuvius?” ', 'Goople giggled, I’m taking you for a ride inside the earth. Mount Vesuvius, one of the world’s most famous volcanoes, is where we will enter”. It’s called an extinct volcano since it hasn’t erupted in a very, very long time.” Purple thought for a second and said, “Hope it doesn’t erupt now, either”. Purple added, “Did you know Goople that the outer layer of my planet Earth is called the crust? It is the crust where you’ll find all the continents and oceans. It goes down at least ten miles and is made mainly of rocks.” ', 'Whoosh, the two soon arrived at Mount Vesuvius and dove head first down, down, deep into the volcano. Stopping to explore a tunnel, Purple pointed excitedly, “Look, over there. I see stalactites hanging from the ceiling. They are so beautiful. They look like hundreds of icicles!” Three of the stalactites crashed to the ground with a thunderous plop, creating echoes for several minutes. Plop, Plop, Plop. “Yes, and look over there, those are stalagmites. Stalagmites differ from stalactites as they rise from the ground and not hang from the ceiling,” said Goople. ', 'Purple shouted above the increasing noise heard from deep inside the earth. “Both stalagmites and stalactites are formed from water droplets leaking through the ground. When the minerals in the water hardened, you got these cool shapes”. The friends continued their journey inside the earth. “Over there,” called Purple, “on the left, do you see the seashell fossils? And, oh, my, wow- there’s a fossil of \\xa0t-rex, the largest meat-eating dinosaur to ever walk the earth. This is amazing!” called Purple. ', 'Down, down they continued past beautiful pillars of clear, blue, pinks and green crystals. The clear crystals looked like stacks of ice cubes. “Gee, Goople, it’s getting really dark and hot.” shouted Purple. “Don’t worry, my friend, I’ve turned on my protective shield so we won’t feel the heat. And, I’ve turned on my antenna lights so you can see,” responded Goople. “I think we’ve reached the part of the earth called the mantle,” said Purple. It’s about 1800 miles thick and very hot- 5400 degrees F.” ', 'The pair continued down, down, down inside the earth. “Look, Goople, we’ve reached the earth’s core, the center of the earth. It has two parts. The outer core and the inner core. The outer core is so very hot that metals such as nickel and iron are in liquid form.” “Now, that’s HOT,” laughed Goople. “Yes, my planet has an outer and inner core, too,” smiled Goople. “And, just like my planet, it is in the earth’s core that the magnetic field is created.” ', 'Purple looked stumped. “Say Goople, what’s the magnetic field?” Goople replied, “Amazingly, the magnetic field goes all the way into outer space and helps protect both our planets from the sun’s harmful solar winds.” “Look, we’ve reached the inner core. But instead of liquid metals, it’s solid. How can that be?” asked Purple. It’s hotter than the outer core, as hot as the surface of the sun”. Goople knew the answer and explained, “That’s because there is so much pressure, it turns the liquid nickel and iron solid.” ', 'Purple spotted some glowing red and white liquid rock coming from the earth’s core. “That’s magma,” Purple said with awe. Goople added, “Magma is called lava once it cracks the earth’s surface.” Purple pointed to some magma that was beginning to gain speed bubbling up and up. The lava started chasing them as they began to zoom up toward the surface. “Hold on tight, my friend,” called Goople. “This might be a bumpy ride”. Whoosh! ', 'Goople and Purple returned to the earth’s surface through the opening of Eyjafjallajökull, one of the world’s most famous active volcanoes. Back on the surface, Purple and Goople sat down on the ground catching their breaths. “Sorry Purple, I didn’t realize that Iceland’s volcano was so active”. “That was the most awesome adventure, ever!” smiled Purple. “Hey, Purple, I’ve got something for you to remember our latest adventure,” smiled Goople. He reached into his pocket and handed Purple a bright orange rock. “Remember to tuck it into your shell”. ', '“I’m off. Need to get back to my planet in time for dinner. See you next time, my friend.” With that, Goople opened Purple’s bedroom window and flew off, back to his home planet far, far away. “Bye, Goople,” Purple called from the window.   Purple looked down at the bright orange stone he was holding in his hand. He tucked the orange rock into his shell right next to his purple stone. ', \"This is the story of a little fir tree who dreamt of growing up so that he could go and be a Christmas Tree amongst the Humans. The other, older trees, knew more about life, and they told him that being a tree with the Humans wasn't as good as all that.\\xa0  But the little fir tree didn't want to believe the older trees and he didn't have long to wait. \", 'He was so pleased when one day some children came with their parents to choose a fir tree to decorate their living room. The children adored him at first sight. ', 'So he was dug up, then brought into the living room, where he was hung with decorations. ', 'After they had finished decorating him, the little fir tree shone with a thousand lights. ', 'Christmas was getting closer and everyone admired the little Christmas Tree. The young fir tree thought: All the bigger fir trees were wrong and he lifted his branches even higher so people could admire him better. Up till January, he was the prince of the living room; but then he started to lose his needles. Now nobody looked at him, touched him, or even bothered to gather up the tiny needles that fell.\\xa0  Then, the whole family decided to put him down into the cellar. The fir tree started to feel very sad that he had even been chosen by the family. ', \"After several days wait it seemed never-ending to him, the little fir tree was replanted. He was so happy to be back in this good old earth that he'd missed so much during those endless days when he was shut up in the cellar!! Suddenly he understood that the family had left him in the cold of the cellar to keep him healthy. \", 'Each year, the family dug him up again to put him back into the living room. He was very happy with his new family. And yes, in the end the bigger trees were wrong about something- some humans are good after all... ', 'Happy Birthday, Jesus! We celebrate Your birth, In the town of Bethlehem, When You came down to earth. ', 'Your mother Mary held You. A manger was Your bed. The cows and sheep were quiet, As she gently kissed Your head. ', 'Your father Joseph marveled. He knew You were the One. For God had sent a Savior, His one and only Son. ', 'The shepherds had been watching, Their flock that quiet night. When an angel appeared, They were terrified with fright. ', '\"Do not be afraid. For I bring to you good news: Today a Savior has been born!\" And then the shepherds knew. ', '\"Glory to God in the highest! Glory to God in the highest! And on Earth peace to men, On whom His favor rests. ', 'Happy Birthday, Jesus! We give You all the praise. We celebrate Your birthday, On this glorious Christmas day. ']\n",
      "objectsUsed\n",
      "['Adventure', 'Animals', 'Love', 'Nature', 'Fun', 'Education', 'MangoSense', 'Life', 'History', 'Moral', 'Twin sister', 'kid', 'stories', 'Israel', 'Words', 'Daily', 'Learning', 'Sight', 'Baby', 'Children', 'E-books', 'Kids', 'Educational', 'ISBN:9781599221298', 'Twin Sisters', 'Grandma', 'Parents', 'Grandparents', 'Family', 'Home', 'Father', 'Mother', 'Brother', 'Cooking', 'E-Books', 'Food', 'ISBN:9781575833231', 'Pratham Books', 'ekstep', 'MangoReader', 'Bedtime', 'Stories', 'Bear', 'ISBN:9781599229652', 'Action', 'Friendship', 'Space', 'Volcano', 'Earth', 'Science', 'Plants', 'Christmas', 'GamesLife', 'Rhymes', 'Poetry', 'Songs', 'Occasion']\n",
      "keywords\n",
      "['Five', 'Little', 'Skunks', 'English', 'Animals and Nature', 'Adventure', 'Animals', 'Love', 'Nature', 'Fun', 'Education', 'Twin Sisters, Mangoreader', 'Kim Mitzo Thompson', 'Karen Mitzo Hilderbrand', 'David', 'and', 'Goliath', 'Action and Adventure', 'Life', 'History', 'Moral', 'My', 'Day', 'Picture Books', 'Toys', 'Twin Sisters', 'Ebooks', 'Kids', 'Educational', 'ISBN:9781599221298', 'Twin Sisters, MangoReader', 'Grandma', 'Likes', 'to', 'Cook', 'Bedtime Stories', 'Family and Friends', 'Holidays and Celebrations', 'Poems and Songs', 'Parents', 'Grandparents', 'Family', 'Home', 'Father', 'Mother', 'Brother', 'Cooking', 'Children', 'E-Books', 'Food', 'ISBN:9781575833231', 'Best', 'Friend', '-', 'Kannada', 'Pratham Books', 'ekstep', 'MangoReader', 'Pratham Books, MangoReader', 'Anupa Lal', 'I', 'You', 'More', 'English US', 'Bedtime', 'Stories', 'E-books', 'Bear', 'ISBN:9781599229652', 'Kim Thompson', 'Bailey Thompson', 'Purple', 'Goople', 'Explore', 'Inside', 'The', 'Earth', 'Action', 'Friendship', 'Space', 'Volcano', 'Science', 'Aadarsh Publication, MangoReader', 'Suvarna Bhajanka', 'Christmas', 'Tree', 'Plants', 'GamesLife', 'Rhymes', 'Mangoreader', 'Dugald A Steer', 'Happy', 'Birthday,', 'Jesus', 'Poetry', 'Songs', 'Occasion', 'Twin Sisters, Tara Larsen Chang']\n",
      "tags\n",
      "['Hindi', 'hindi_reading_camp', 'hindi_num_activities', 'Delhi Curriculum', 'english_stories_sample', 'english_stories', 'English', 'hindi_reading_camps', 'genie', 'esl', 'tag1', 'hindi_reading_week', 'Fun', 'Education', 'Love', 'Nature', 'Adventure', 'Animals', 'MangoSense', 'Life', 'Moral', 'History', 'Twin sister', 'stories', 'kid', 'Israel', 'Kids', 'Educational', 'ISBN:9781599221298', 'Twin Sisters', 'Words', 'Daily', 'Learning', 'Sight', 'Baby', 'Children', 'E-books', 'lion', 'Grandma', 'Parents', 'Grandparents', 'Family', 'Home', 'Father', 'Mother', 'Brother', 'Cooking', 'E-Books', 'Food', 'ISBN:9781575833231', 'elephant', 'ekstep', 'Pratham Books', 'MangoReader', 'Bear', 'ISBN:9781599229652', 'Stories', 'Bedtime', 'Earth', 'Science', 'Friendship', 'Space', 'Volcano', 'Action', 'hindi_stories', 'hindi_lit_activities', 'numeracy', 'test', 'Plants', 'Christmas', 'Rhymes', 'GamesLife', 'tag2', 'HTML', 'Songs', 'Poetry', 'Occasion', 'Story', 'Foundational', \"Sol's Arc\", 'nice story', 'hindi', 'kannada', 'lingual', 'multi', 'Foundation Content', 'Eid', 'counting', 'apples', 'english_num_activities', '20-30 words', 'Numeracy', 'Literacy', 'English as Second Language', 'ESL', 'Mela', 'EkStep Mela', 'Swapnil ESL', 'Page14', 'Page15', 'Page16', 'COUNTINGINGROUPS', 'NCERTCLASS2CHAPTER2', 'NCERTClass2', 'ncert', 'class 2', 'carrot', 'chapter 2', 'BAG', 'PENCIL', 'CUP', 'RABBIT', 'BIRD', 'NCERTCLASS2', 'Chapter 2', 'Math', 'NCERT', 'Class 2', 'Kannada', '40 - 50 words', 'Nia', '1Math', 'CountTo10', 'NiaTheSquirrel']\n"
     ]
    }
   ],
   "source": [
    "list_of_values(keys_2)"
   ]
  },
  {
   "cell_type": "code",
   "execution_count": 19,
   "metadata": {
    "collapsed": false
   },
   "outputs": [
    {
     "name": "stdout",
     "output_type": "stream",
     "text": [
      "portalOwner\n",
      "['EkStep', 'MangoSense', 'NCERT']\n",
      "os\n",
      "['All', 'Android']\n",
      "source\n",
      "['EkStep', 'MangoReader']\n",
      "mediaType\n",
      "['content', 'collection']\n",
      "pkgVersion\n",
      "[1, 6.0, 12.0, 4.0, 18.0, 17.0, 11.0, 13.0, 20.0, 3, 27.0, 7.0, 8.0, 15.0, 2.0, 5.0, 9.0]\n",
      "launchUrl\n",
      "['org.ekstep.quiz.app', 'org.ekstep.aser.lite', 'air.edu.washington.cs.treefrog', 'org.ekstep.delta', 'org.ekstep.cog.flankers', 'org.ekstep.aser', 'org.ekstep.num.scrn.basic', 'org.ekstep.lit.scrnr.kan.basic']\n",
      "soundCredits\n",
      "['vinu', 'mahesh', 'jitu', 'ramesh', 'suresh', 'EkStep', 'ekstep', 'Hemalatha Ganesh', 'Radhika P']\n",
      "imageCredits\n",
      "['vinu', 'mahesh', 'jitu', 'ramesh', 'suresh', 'ekstep', 'EkStep', 'Swapnil Anil Deopurkar', 'External Testing vendor', 'Alia Ali', 'Maneesh Pandey', 'Hemalatha Ganesh', 'Radhika P', 'Wiehan de Jager', 'Wiehan De Jager', 'Weihan De Jager', 'wiehan de jager', 'Paluru Abhign Sai', 'Aditya R', 'ssssssssssssssssssssssssssssssssssssssssssssssssssssssssssssssssssssssssssssssssssssssssss', 'Swapnil Deopurkar', '1', 't', '3', '4', '5', '6', '7', '8', '9', '10', '11', '12', '13', '14']\n",
      "voiceCredits\n",
      "['Mangoreader', 'MangoReader', 'vinu', 'mahesh', 'jitu', 'ramesh', 'suresh', 'Noel Almeida', 'Swapnil Deopurkar', 'Kameswararao BH', 'Aditya R']\n",
      "learnerLevel\n",
      "['Beginner level', 'Beginner']\n",
      "purpose\n",
      "['Assessment', 'Assessment ', 'Screener']\n",
      "templateType\n",
      "['mcq']\n",
      "templateName\n",
      "['one_blank_ftb']\n",
      "cost\n",
      "['0']\n"
     ]
    }
   ],
   "source": [
    "list_of_values(keys_4)"
   ]
  }
 ],
 "metadata": {
  "kernelspec": {
   "display_name": "Python 3",
   "language": "python",
   "name": "python3"
  }
 },
 "nbformat": 4,
 "nbformat_minor": 0
}
