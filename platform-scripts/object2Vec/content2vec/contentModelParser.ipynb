{
 "cells": [
  {
   "cell_type": "markdown",
   "metadata": {},
   "source": [
    "# Initialisation"
   ]
  },
  {
   "cell_type": "code",
   "execution_count": 1,
   "metadata": {
    "collapsed": false
   },
   "outputs": [],
   "source": [
    "%matplotlib inline\n",
    "import matplotlib.pyplot as plt\n",
    "import requests\n",
    "import operator\n",
    "from tabulate import tabulate\n",
    "import json\n",
    "import zipfile\n",
    "import os\n",
    "import io as io #Made in Python 3.x Replace io by StringIO module with the io module. For use in Python 2.x use\n",
    "import shutil\n",
    "import mutagen.mp3 as mp3 #pip install mutagen\n",
    "#import StringIO as io\n",
    "baseURL = \"http://lp-sandbox.ekstep.org:8080/taxonomy-service/v2/analytics/getContent/\"\n",
    "listURL = \"http://lp-sandbox.ekstep.org:8080/taxonomy-service/v2/analytics/content/list\"\n",
    "url = listURL\n",
    "resp = requests.get(url).json()"
   ]
  },
  {
   "cell_type": "code",
   "execution_count": 2,
   "metadata": {
    "collapsed": false
   },
   "outputs": [],
   "source": [
    "#This gives the keys of any dictionary in sorted order\n",
    "#It returns None value if it is not a dictionary and raises an error message\n",
    "#If you wish to debug the code then pass a \"verbose=true\" argument\n",
    "def get_keys(obj,**kwargs):\n",
    "    a=False\n",
    "    try:\n",
    "        if(kwargs[\"verbose\"]):\n",
    "            a=True\n",
    "    except KeyError:\n",
    "        ;\n",
    "    if(isinstance(obj,dict)):\n",
    "        key_list=list(obj.keys())\n",
    "        key_list.sort()\n",
    "        if(len(key_list)>0):\n",
    "            return key_list\n",
    "        else:\n",
    "            if(a):\n",
    "                print(\"No keys. Empty dictionary\")\n",
    "            return\n",
    "    else:\n",
    "        if(a):\n",
    "            print(\"This is not a dictionary\")\n",
    "        return"
   ]
  },
  {
   "cell_type": "markdown",
   "metadata": {},
   "source": [
    "## Extract Parameters from Metadata to be used in Downloads"
   ]
  },
  {
   "cell_type": "code",
   "execution_count": 3,
   "metadata": {
    "collapsed": true
   },
   "outputs": [],
   "source": [
    "#From the json metadata, it extracts the downloadUrl and the identifier\n",
    "def get_download_parameters(obj,**kwargs):\n",
    "    verbose=False\n",
    "    try:\n",
    "        if(kwargs[\"verbose\"]):\n",
    "            verbose=True\n",
    "    except KeyError:\n",
    "        ;\n",
    "    url=None\n",
    "    identifier=None\n",
    "    if(isinstance(obj,dict)):\n",
    "        for i in get_keys(obj):\n",
    "            if(i==\"downloadUrl\"):\n",
    "                url=obj[i]\n",
    "            if(i==\"identifier\"):\n",
    "                identifier=obj[i]\n",
    "    if(url==None and verbose):\n",
    "        print(\"URL does not exist\")\n",
    "    elif(identifier==None and verbose):\n",
    "        print(\"Identifier does not exist\")\n",
    "    else:\n",
    "        return url,identifier"
   ]
  },
  {
   "cell_type": "markdown",
   "metadata": {},
   "source": [
    "## Download a File given URL and Folder Name"
   ]
  },
  {
   "cell_type": "code",
   "execution_count": 4,
   "metadata": {
    "collapsed": true
   },
   "outputs": [],
   "source": [
    "#Downloads file and saves it in folder identifier in the current directory\n",
    "def download_file(url,identifier,**kwargs):\n",
    "    verbose=False\n",
    "    try:\n",
    "        if(kwargs[\"verbose\"]):\n",
    "            verbose=True\n",
    "    except KeyError:\n",
    "        ;\n",
    "    if(url==None or identifier==None):\n",
    "        if(verbose):\n",
    "            print(\"One of the inputs is None\")\n",
    "        return False\n",
    "    r=requests.get(url)\n",
    "    z=zipfile.ZipFile(io.BytesIO(r.content))\n",
    "    z.extractall(identifier)\n",
    "    return r.ok"
   ]
  },
  {
   "cell_type": "markdown",
   "metadata": {},
   "source": [
    "## Unzip all Files present in a Directory and save them into temp(Directory Name)"
   ]
  },
  {
   "cell_type": "code",
   "execution_count": 5,
   "metadata": {
    "collapsed": true
   },
   "outputs": [],
   "source": [
    "#Extracts all files in a directory into temp$directory \n",
    "def unzip_files(directory,**kwargs):\n",
    "    verbose=False\n",
    "    try:\n",
    "        if(kwargs[\"verbose\"]):\n",
    "            verbose=True\n",
    "    except KeyError:\n",
    "        ;\n",
    "    extracted=False\n",
    "    for dirname, dirnames, filenames in os.walk(directory):\n",
    "        for subdirname in dirnames:\n",
    "            string=os.path.join(dirname, subdirname)\n",
    "        for filename in filenames:\n",
    "            string=os.path.join(dirname, filename)\n",
    "            if(string.find(\".zip\")>=0):\n",
    "                with zipfile.ZipFile(string, \"r\") as z:\n",
    "                    loc=\"temp\"+directory\n",
    "                    z.extractall(loc)\n",
    "                if(verbose):\n",
    "                    print(\"Extracted\",string)\n",
    "                extracted=True\n",
    "    if(verbose and not extracted):\n",
    "        print(\"No zip file exists\")\n",
    "    return extracted"
   ]
  },
  {
   "cell_type": "markdown",
   "metadata": {},
   "source": [
    "## Copy folders assets, data and items to temp(Directory name)"
   ]
  },
  {
   "cell_type": "code",
   "execution_count": 6,
   "metadata": {
    "collapsed": false
   },
   "outputs": [],
   "source": [
    "#In case there are no zip files then the content was uploaded unzipped and thus we can transfer the \n",
    "    #three main folders assets,data,items directly\n",
    "def copy_main_folders(directory,prefix,**kwargs):\n",
    "    flag=False\n",
    "    verbose=False\n",
    "    try:\n",
    "        if(kwargs[\"verbose\"]):\n",
    "            verbose=True\n",
    "    except KeyError:\n",
    "        ;\n",
    "    for root, dirnames, filenames in os.walk(directory):\n",
    "        for subdirname in dirnames:\n",
    "            string=os.path.join(root, subdirname)\n",
    "            loc=prefix+directory+\"/\"+subdirname\n",
    "            if(subdirname==\"assets\"):\n",
    "                shutil.copytree(string,loc)\n",
    "                if(verbose):\n",
    "                    print(\"Copied\",string)\n",
    "                flag=True\n",
    "            elif(subdirname==\"data\"):\n",
    "                shutil.copytree(string,loc)\n",
    "                if(verbose):\n",
    "                    print(\"Copied\",string)           \n",
    "                flag=True\n",
    "            elif(subdirname==\"items\"):\n",
    "                shutil.copytree(string,loc)\n",
    "                if(verbose):\n",
    "                    print(\"Copied\",string)\n",
    "                flag=True\n",
    "    if(verbose and not flag):\n",
    "        print(\"No folder named assets,data or items\")\n",
    "    return flag"
   ]
  },
  {
   "cell_type": "markdown",
   "metadata": {},
   "source": [
    "## Combine all of the above to process Downloaded Files into a Suitable Format"
   ]
  },
  {
   "cell_type": "code",
   "execution_count": 7,
   "metadata": {
    "collapsed": false,
    "scrolled": true
   },
   "outputs": [],
   "source": [
    "def process_entity(obj,**kwargs):\n",
    "    verb=False\n",
    "    try:\n",
    "        if(kwargs[\"verbose\"]):\n",
    "            verb=True\n",
    "    except KeyError:\n",
    "        ;\n",
    "    url,identifier=get_download_parameters(obj,verbose=verb)\n",
    "    if(url==None or identifier==None):\n",
    "        return\n",
    "    if(not download_file(url,identifier,verbose=verb)):\n",
    "        return\n",
    "    if(not unzip_files(identifier,verbose=verb)):\n",
    "        if(not copy_main_folders(identifier,\"temp\",verbose=verb)):\n",
    "            shutil.rmtree(identifier)\n",
    "            return\n",
    "    shutil.rmtree(identifier)\n",
    "    copy_main_folders(\"temp\"+identifier,\"_\")\n",
    "    shutil.rmtree(\"temp\"+identifier)\n",
    "    os.rename(\"_temp\"+identifier,identifier)\n",
    "    if(verb):\n",
    "        print(\"Success \"+identifier)\n",
    "    return identifier"
   ]
  },
  {
   "cell_type": "markdown",
   "metadata": {},
   "source": [
    "## Get a list of all files in a Directory having any one of the Types in the list Typ (Accepts only a list object)"
   ]
  },
  {
   "cell_type": "code",
   "execution_count": 8,
   "metadata": {
    "collapsed": false
   },
   "outputs": [],
   "source": [
    "def get_file_type_directory(directory,typ):\n",
    "    ls=[]\n",
    "    for root, dirnames, filenames in os.walk(directory):\n",
    "        for file in filenames:\n",
    "            for i in typ:\n",
    "                if file.endswith(\".\"+i):\n",
    "                     ls.append(os.path.join(root, file))\n",
    "    if(len(ls)==0):\n",
    "        print(\"No json files found\")\n",
    "        return\n",
    "    return ls"
   ]
  },
  {
   "cell_type": "markdown",
   "metadata": {},
   "source": [
    "## Count all files in a Directory having any one of the Types in the list Typ (Accepts only a list object)"
   ]
  },
  {
   "cell_type": "code",
   "execution_count": 9,
   "metadata": {
    "collapsed": false
   },
   "outputs": [],
   "source": [
    "def count_file_type_directory(directory,typ):\n",
    "    x={}\n",
    "    for i in typ:\n",
    "        x[i]=0\n",
    "    for root, dirnames, filenames in os.walk(directory):\n",
    "        for file in filenames:\n",
    "            for i in typ:\n",
    "                if file.endswith(\".\"+i):\n",
    "                     x[i]+=1\n",
    "    return x"
   ]
  },
  {
   "cell_type": "markdown",
   "metadata": {},
   "source": [
    "## Count the Length of all Audio Files in a Directory"
   ]
  },
  {
   "cell_type": "code",
   "execution_count": 10,
   "metadata": {
    "collapsed": true
   },
   "outputs": [],
   "source": [
    "def count_MP3_length_directory(directory):\n",
    "    x=0\n",
    "    for root, dirnames, filenames in os.walk(directory):\n",
    "        for file in filenames:\n",
    "            try:\n",
    "                if file.endswith(\".mp3\"):\n",
    "                    string=os.path.join(root, file)\n",
    "                    audio = mp3.MP3(string)\n",
    "                    x+=audio.info.length\n",
    "            except mp3.HeaderNotFoundError:\n",
    "                print(\"Media read error\")\n",
    "    return x"
   ]
  },
  {
   "cell_type": "markdown",
   "metadata": {},
   "source": [
    "## Get all Values corresponding to all Keys of a Dictionary"
   ]
  },
  {
   "cell_type": "code",
   "execution_count": 11,
   "metadata": {
    "collapsed": false
   },
   "outputs": [],
   "source": [
    "def get_all_values(obj):\n",
    "    x=[]\n",
    "    if(isinstance(obj,dict)):\n",
    "        b=get_keys(obj)\n",
    "        if(b!=None):\n",
    "            for i in b:\n",
    "                a=get_all_values(obj[i])\n",
    "                if(a!=None):\n",
    "                    for j in a:\n",
    "                        try:\n",
    "                            x.index(j)\n",
    "                        except ValueError:\n",
    "                            x.append(j)\n",
    "    elif(isinstance(obj,list)):\n",
    "        for i in obj:\n",
    "            a=get_all_values(i)\n",
    "            if(a!=None):\n",
    "                for j in a:\n",
    "                    try:\n",
    "                        x.index(j)\n",
    "                    except ValueError:\n",
    "                        x.append(j)\n",
    "    else:\n",
    "        x=[obj]\n",
    "    if(len(x)>0):\n",
    "        return x\n",
    "    else:\n",
    "        return            "
   ]
  },
  {
   "cell_type": "markdown",
   "metadata": {},
   "source": [
    "## Extract json data from a List of File Locations"
   ]
  },
  {
   "cell_type": "code",
   "execution_count": 12,
   "metadata": {
    "collapsed": false
   },
   "outputs": [],
   "source": [
    "def extract_json_data(json_file_names):\n",
    "    json_files=[]\n",
    "    for i in json_file_names:\n",
    "        lines = [line for line in open(i,encoding=\"utf8\")]\n",
    "        x=[]\n",
    "        bracket=0\n",
    "        k=0\n",
    "        for ln in lines:\n",
    "            for char in ln:\n",
    "                if char=='{':\n",
    "                    bracket+=1\n",
    "                elif char=='}':\n",
    "                    bracket-=1\n",
    "            if(bracket!=0):\n",
    "                x.append(ln)\n",
    "            else:\n",
    "                x.append(\"}\")\n",
    "                f=open(\"temp%d.json\"%(k),'w',encoding=\"utf8\")\n",
    "                for i in x:\n",
    "                    f.write(i)\n",
    "                f.close()\n",
    "                k+=1\n",
    "                x=[]\n",
    "        for j in range(0,k):\n",
    "            try:\n",
    "                with open(\"temp%d.json\"%(j),encoding=\"utf8\") as f:\n",
    "                    json_data = json.load(f)\n",
    "                    json_files.append(get_all_values(json_data))\n",
    "                    f.close()\n",
    "                    os.remove(\"temp%d.json\"%(j))\n",
    "            except ValueError:\n",
    "                f.close()\n",
    "                os.remove(\"temp%d.json\"%(j));\n",
    "    return json_files"
   ]
  },
  {
   "cell_type": "markdown",
   "metadata": {},
   "source": [
    "## Load the List of Concepts"
   ]
  },
  {
   "cell_type": "code",
   "execution_count": 13,
   "metadata": {
    "collapsed": false
   },
   "outputs": [],
   "source": [
    "def load_dict(filename):\n",
    "    lines = [line.rstrip('\\n') for line in open(filename)]\n",
    "    return lines"
   ]
  },
  {
   "cell_type": "code",
   "execution_count": 14,
   "metadata": {
    "collapsed": true
   },
   "outputs": [],
   "source": [
    "conceptList=load_dict(\"conceptList.txt\")"
   ]
  },
  {
   "cell_type": "code",
   "execution_count": 15,
   "metadata": {
    "collapsed": false
   },
   "outputs": [],
   "source": [
    "def filter_assessment_data(directory):\n",
    "    concList=[]\n",
    "    ls_items=get_file_type_directory(directory+\"/items\",json_file_type)\n",
    "    if(ls_items!=None):\n",
    "        items=extract_json_data(ls_items)\n",
    "        for i in items[0]:\n",
    "            try:\n",
    "                if(i[0:2]==\"LD\" or i[0:2]==\"LO\" or i[0:3]==\"Num\"):\n",
    "                    try:\n",
    "                        conceptList.index(i)\n",
    "                        concList.append(i)\n",
    "                    except ValueError:\n",
    "                        ;\n",
    "            except TypeError:\n",
    "                ;\n",
    "    return concList"
   ]
  },
  {
   "cell_type": "code",
   "execution_count": 16,
   "metadata": {
    "collapsed": false
   },
   "outputs": [
    {
     "name": "stdout",
     "output_type": "stream",
     "text": [
      "Identifier ecml_testbook_gridlayout\n",
      "\n",
      "Number of objects of each type: {'png': 6, 'jpg': 0, 'ogg': 0, 'gif': 0, 'mp3': 0}\n",
      "\n",
      "Total length of MP3 files (seconds): 0\n",
      "No json files found\n",
      "No json files found\n",
      "\n",
      "\n",
      "Identifier ecml_testbook_image\n",
      "\n",
      "Number of objects of each type: {'png': 3, 'jpg': 0, 'ogg': 0, 'gif': 0, 'mp3': 0}\n",
      "\n",
      "Total length of MP3 files (seconds): 0\n",
      "No json files found\n",
      "No json files found\n",
      "\n",
      "\n",
      "Identifier ecml_testbook_shape\n",
      "\n",
      "Number of objects of each type: {'png': 2, 'jpg': 0, 'ogg': 0, 'gif': 0, 'mp3': 0}\n",
      "\n",
      "Total length of MP3 files (seconds): 0\n",
      "No json files found\n",
      "No json files found\n",
      "\n",
      "\n",
      "Identifier ecml_testbook_inputPlugin\n",
      "\n",
      "Number of objects of each type: {'png': 3, 'jpg': 0, 'ogg': 0, 'gif': 0, 'mp3': 0}\n",
      "\n",
      "Total length of MP3 files (seconds): 0\n",
      "No json files found\n",
      "No json files found\n",
      "\n",
      "\n",
      "Identifier testbook.ecml.text1\n",
      "\n",
      "Number of objects of each type: {'png': 3, 'jpg': 0, 'ogg': 0, 'gif': 0, 'mp3': 0}\n",
      "\n",
      "Total length of MP3 files (seconds): 0\n",
      "No json files found\n",
      "No json files found\n",
      "\n",
      "\n",
      "Identifier testbook.ecml.AudioTest1\n",
      "\n",
      "Number of objects of each type: {'png': 4, 'jpg': 1, 'ogg': 2, 'gif': 0, 'mp3': 3}\n",
      "\n",
      "Total length of MP3 files (seconds): 158.27544387755103\n",
      "No json files found\n",
      "No json files found\n",
      "\n",
      "\n",
      "Identifier numeracy_377\n",
      "\n",
      "Number of objects of each type: {'png': 45, 'jpg': 0, 'ogg': 2, 'gif': 0, 'mp3': 5}\n",
      "\n",
      "Total length of MP3 files (seconds): 33.07682539682539\n",
      "No json files found\n",
      "No json files found\n",
      "\n",
      "\n",
      "Identifier Test_QAT_164\n",
      "\n",
      "Number of objects of each type: {'png': 57, 'jpg': 2, 'ogg': 0, 'gif': 0, 'mp3': 18}\n",
      "\n",
      "Total length of MP3 files (seconds): 174.4786394557823\n",
      "\n",
      "The stories:\n",
      "\n",
      "\t Dasara is a festival in India, It commemorates the victory of Lord Rama over Ravana. Origin: Sanskrit\n",
      "\t Do you think the sun needs a hat?.\n",
      "\t All of us went to the Dasara Fair.\n",
      "\t Papa bought Chintu fancy glasses. Mother bought me a bright blue cap. The baby got sugar candy.\n",
      "\t On the way home, a very strong wind came. It blew my cap away.\n",
      "\t My cap got stuck on a branch of the old Pipal tree.\n",
      "\t I cried a lot. And I did not eat my dinner.\n",
      "\t Later that night, the moon came up. It looked at my cap on the old Pipal tree.\n",
      "\t It tried on my cap. The moon smiled happily. I smiled too.\n",
      "\t After school the next day, my mother gave me a shiny new red cap.\"The moon sent it,\" she said.\n",
      "\t That night, both the moon and I wore our caps and smiled. We were happy.\n",
      "\n",
      "\n",
      "\t Hindi: केटली\n",
      "\t Rhyme: I'm a little Teapot...\n",
      "\t Synonyms: Teapot\n",
      "\t Kettle\n",
      "\t Kettle is used for boiling tea.\n",
      "\t Poor Sringeri Srinivas. It seemed no one would cut his hair on this Annual Haircut Day.\n",
      "\t In tears, he walked off by himself past the village forest.\n",
      "\t He sat near a cave and cried loudly.\n",
      "\t \"The day is nearly over. How can I keep my promise to cut my hair? Oh God, help me!\"\n",
      "\t The tiger sleeping peacefully inside the cave was very disturbed by all the noise.\n",
      "\t He came out, roaring, waving his giant paws at Sringeri Srinivas.\n",
      "\t Poor Sringeri Srinivas was so scared, so scared, so scared that ...\n",
      "\t ... all the hair fell off his head!\n",
      "\t Sringeri Srinivas ran all the way back to the village. The tiger went back to sleep.\n",
      "\t Now, Sringeri Srinivas will not need a haircut for a very long time.\n",
      "\t All of us went to the Dasara Fair.\n",
      "\t Find the Barber.\n",
      "\t Barber has Scissors to Cut hair.\n",
      "\t Find the Carpenter.\n",
      "\t Carpenter has a hammer and nail.\n",
      "\t Match the tools to the people.\n",
      "\t Carpenter uses this to cut wood.\n",
      "\t Take me home. Take each person to their home.\n",
      "\t The tailor is surrounded by clothers to stitch.\n",
      "\t Sringeri Srinivas left home as usual to go to the local barber.\n",
      "\t But the barber said, \"Today, I have no time to cut such long hair!\"\n",
      "\t Feeling sad, Sringeri Srinivas went back home to ask his wife for help.\n",
      "\t But his wife said, \"Today, I have no time to cut such long hair!\"\n",
      "\t Feeling a little angry, Sringeri Srinivas went to his friend, the tailor.\n",
      "\t But the tailor said, \"Today, I have no time to cut such long hair!\"\n",
      "\t Now a little worried, Sringeri Srinivas went to one more friend, the carpenter.\n",
      "\t But the carpenter said, \"Today, I have no time to cut such long hair!\"\n",
      "\n",
      "\n",
      "\n",
      "The concepts taught:\n",
      "LD1\n",
      "LO1\n",
      "\n",
      "\n",
      "Identifier org.ekstep.ms_52d02eae69702d0905cf0800\n",
      "\n",
      "Number of objects of each type: {'png': 10, 'jpg': 8, 'ogg': 0, 'gif': 0, 'mp3': 7}\n",
      "\n",
      "Total length of MP3 files (seconds): 127.31531249999999\n",
      "No json files found\n",
      "No json files found\n",
      "\n",
      "\n",
      "Identifier domain_39669\n",
      "\n",
      "Number of objects of each type: {'png': 17, 'jpg': 1, 'ogg': 0, 'gif': 0, 'mp3': 2}\n",
      "\n",
      "Total length of MP3 files (seconds): 3.8024943310657595\n",
      "No json files found\n",
      "No json files found\n",
      "\n",
      "\n"
     ]
    }
   ],
   "source": [
    "for i in range(50,60):\n",
    "    identifier=process_entity(resp[\"result\"]['contents'][i])\n",
    "    if(identifier!=None):\n",
    "        print(\"Identifier\",identifier)\n",
    "        media_type=[\"mp3\",\"ogg\",\"png\",\"gif\",\"jpg\"]\n",
    "        json_file_type=[\"json\",\"json.bk\"]\n",
    "        #Count the number of files of a particular media type in the item directory\n",
    "        print(\"\\nNumber of objects of each type:\",count_file_type_directory(identifier+\"/assets\",media_type))\n",
    "        #Get the length of all mp3 files in a directory\n",
    "        print(\"\\nTotal length of MP3 files (seconds):\",count_MP3_length_directory(identifier+\"/assets\"))\n",
    "        #Extract data from json files\n",
    "        ls_data=get_file_type_directory(identifier+\"/data\",json_file_type)\n",
    "        if(ls_data!=None):\n",
    "            data=extract_json_data(ls_data)\n",
    "            print(\"\\nThe stories:\\n\")\n",
    "            for i in data:\n",
    "                for j in i:\n",
    "                    print(\"\\t\",j)\n",
    "                print(\"\\n\")\n",
    "        #Extract concepts from items folder\n",
    "        concList=filter_assessment_data(identifier)\n",
    "        if(len(concList)>0):\n",
    "            print(\"\\nThe concepts taught:\")\n",
    "            for i in concList:\n",
    "                print(i)\n",
    "        #Delete folder created\n",
    "        shutil.rmtree(identifier)\n",
    "        print(\"\\n\")"
   ]
  }
 ],
 "metadata": {
  "kernelspec": {
   "display_name": "Python 3",
   "language": "python",
   "name": "python3"
  },
  "language_info": {
   "codemirror_mode": {
    "name": "ipython",
    "version": 3
   },
   "file_extension": ".py",
   "mimetype": "text/x-python",
   "name": "python",
   "nbconvert_exporter": "python",
   "pygments_lexer": "ipython3",
   "version": "3.4.3"
  }
 },
 "nbformat": 4,
 "nbformat_minor": 0
}
