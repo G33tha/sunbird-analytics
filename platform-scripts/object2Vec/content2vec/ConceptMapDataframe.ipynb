{
 "cells": [
  {
   "cell_type": "code",
   "execution_count": 1,
   "metadata": {
    "collapsed": true
   },
   "outputs": [],
   "source": [
    "%matplotlib inline\n",
    "import matplotlib.pyplot as plt\n",
    "import sys\n",
    "import collections\n",
    "import requests\n",
    "import operator\n",
    "from tabulate import tabulate\n",
    "import seaborn as sns\n",
    "sns.set(style=\"whitegrid\")\n",
    "import pandas as pd\n",
    "import numpy as np\n",
    "import math\n",
    "import types\n",
    "\n",
    "url = \"http://lp-sandbox.ekstep.org:8080/taxonomy-service/v2/analytics/domain/map\"\n",
    "resp = requests.get(url).json()"
   ]
  },
  {
   "cell_type": "code",
   "execution_count": 2,
   "metadata": {
    "collapsed": true
   },
   "outputs": [],
   "source": [
    "#This gives the keys of any dictionary in sorted order\n",
    "#It returns None value if it is not a dictionary and raises an error message\n",
    "#If you wish to debug the code then pass a \"verbose=true\" argument\n",
    "def get_keys(obj,**kwargs):\n",
    "    a=False\n",
    "    try:\n",
    "        if(kwargs[\"verbose\"]):\n",
    "            a=True\n",
    "    except KeyError:\n",
    "        ;\n",
    "    if(isinstance(obj,dict)):\n",
    "        key_list=list(obj.keys())\n",
    "        #print(key_list)\n",
    "        key_list.sort()\n",
    "        if(len(key_list)>0):\n",
    "            return key_list\n",
    "        else:\n",
    "            if(a):\n",
    "                print(\"No keys. Empty dictionary\")\n",
    "            return\n",
    "    else:\n",
    "        if(a):\n",
    "            print(\"This is not a dictionary\")\n",
    "        return"
   ]
  },
  {
   "cell_type": "code",
   "execution_count": 3,
   "metadata": {
    "collapsed": false
   },
   "outputs": [
    {
     "name": "stdout",
     "output_type": "stream",
     "text": [
      "[u'id', u'params', u'responseCode', u'result', u'ts', u'ver']\n"
     ]
    }
   ],
   "source": [
    "print(get_keys(resp))"
   ]
  },
  {
   "cell_type": "code",
   "execution_count": 4,
   "metadata": {
    "collapsed": true
   },
   "outputs": [],
   "source": [
    "#This gets all the keys of the object with corresponding subkeys\n",
    "def get_all_keys(obj):\n",
    "    x=[]\n",
    "    if(isinstance(obj,dict)):\n",
    "        a=get_keys(obj)\n",
    "        if(a!=None):\n",
    "            for i in a:\n",
    "                y=[]\n",
    "                x.append(i)\n",
    "                b=get_all_keys(obj[i])\n",
    "                if(b!=None):\n",
    "                    for j in b:\n",
    "                        try:\n",
    "                            y.index(j)\n",
    "                        except ValueError:\n",
    "                            y.append(j)\n",
    "                if(len(y)>0):\n",
    "                    x.append(y)\n",
    "    elif(isinstance(obj,list)):\n",
    "        y=[]\n",
    "        for i in obj:\n",
    "            a=get_all_keys(i)\n",
    "            if(a!=None):\n",
    "                for j in a:\n",
    "                    try:\n",
    "                        y.index(j)\n",
    "                    except ValueError:\n",
    "                        y.append(j)\n",
    "        if(len(y)>0):\n",
    "            x=y\n",
    "    if(len(x)>0):\n",
    "        return x\n",
    "    else:\n",
    "        return            "
   ]
  },
  {
   "cell_type": "code",
   "execution_count": 6,
   "metadata": {
    "collapsed": false
   },
   "outputs": [],
   "source": [
    "#This prints the keys obtained from above in a nested fashion\n",
    "def parse_keys(obj,a):\n",
    "    for i in obj:\n",
    "        if(isinstance(i,list)):\n",
    "            b=\"\\t\"+a\n",
    "            parse_keys(i,b)\n",
    "        else:\n",
    "            print(a,i)"
   ]
  },
  {
   "cell_type": "code",
   "execution_count": 17,
   "metadata": {
    "collapsed": false
   },
   "outputs": [],
   "source": [
    "#parse_keys(get_all_keys(resp),\"\")"
   ]
  },
  {
   "cell_type": "code",
   "execution_count": 8,
   "metadata": {
    "collapsed": true
   },
   "outputs": [],
   "source": [
    "#This parses a dictionary object\n",
    "def parse_query(obj):\n",
    "    if(isinstance(obj,dict)):\n",
    "        for i in get_keys(obj):\n",
    "            if(isinstance(obj[i],dict)):\n",
    "                print(\"\\n\",i, \":\",get_keys(obj[i]))\n",
    "            else:\n",
    "                print(\"\\n\",i,\":\",obj[i])"
   ]
  },
  {
   "cell_type": "code",
   "execution_count": 18,
   "metadata": {
    "collapsed": false
   },
   "outputs": [],
   "source": [
    "#parse_query(resp)"
   ]
  },
  {
   "cell_type": "code",
   "execution_count": 10,
   "metadata": {
    "collapsed": true
   },
   "outputs": [],
   "source": [
    "conceptsList = resp[\"result\"][\"concepts\"]\n",
    "concepts_keys=get_all_keys(conceptsList)"
   ]
  },
  {
   "cell_type": "code",
   "execution_count": 11,
   "metadata": {
    "collapsed": true
   },
   "outputs": [],
   "source": [
    "conceptDF = pd.DataFrame(conceptsList)"
   ]
  },
  {
   "cell_type": "code",
   "execution_count": 16,
   "metadata": {
    "collapsed": false
   },
   "outputs": [],
   "source": [
    "#conceptDF"
   ]
  },
  {
   "cell_type": "code",
   "execution_count": 15,
   "metadata": {
    "collapsed": false
   },
   "outputs": [],
   "source": [
    "#write the conceptDF into csv file\n",
    "%pwd\n",
    "conceptDF.to_csv('conceptDF.csv', sep='\\t', encoding='utf-8')"
   ]
  },
  {
   "cell_type": "code",
   "execution_count": null,
   "metadata": {
    "collapsed": true
   },
   "outputs": [],
   "source": []
  }
 ],
 "metadata": {
  "kernelspec": {
   "display_name": "Python 2",
   "language": "python",
   "name": "python2"
  },
  "language_info": {
   "codemirror_mode": {
    "name": "ipython",
    "version": 2
   },
   "file_extension": ".py",
   "mimetype": "text/x-python",
   "name": "python",
   "nbconvert_exporter": "python",
   "pygments_lexer": "ipython2",
   "version": "2.7.10"
  }
 },
 "nbformat": 4,
 "nbformat_minor": 0
}
