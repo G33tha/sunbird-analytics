{
 "cells": [
  {
   "cell_type": "markdown",
   "metadata": {},
   "source": [
    "Creating dictionary of sid and ts when the tag is the required ladakh tag.\n",
    "Sorting the ts and then finding difference between consecutive ts.\n",
    "If the duration exceeds 600 seconds that is being discarded.\n",
    "Printing out total duration of each session."
   ]
  },
  {
   "cell_type": "code",
   "execution_count": 6,
   "metadata": {
    "collapsed": false
   },
   "outputs": [
    {
     "name": "stdout",
     "output_type": "stream",
     "text": [
      "Time: 0:29:30\n",
      "Time: 0:01:59\n",
      "Time: 0:26:27\n",
      "Time: 0:01:19\n"
     ]
    }
   ],
   "source": [
    "import json\n",
    "import datetime\n",
    "data = []\n",
    "uids=list()\n",
    "dids=list()\n",
    "times=dict()\n",
    "with open('DeltaDumpLadakhMay.txt') as f:\n",
    "    for line in f:\n",
    "        dat=(json.loads(line))\n",
    "        if(dat['tags']!=[]):\n",
    "            if 'genie' in dat['tags'][0].keys():\n",
    "                if(dat['tags'][0]['genie']==[\"08664a0d8217401a02ce315a747cb2210d98d13b\"]):\n",
    "                    data.append(dat)\n",
    "                    if(dat['uid']!=\"none\" and dat['uid'] not in uids):\n",
    "                        uids.append(dat['uid'])\n",
    "                    if(dat['did']!=\"none\" and dat['did'] not in dids):\n",
    "                        dids.append(dat['did'])\n",
    "                    if(dat['sid'] in times.keys()):\n",
    "                        times[dat['sid']].append(dat['ts'])\n",
    "                    else:\n",
    "                        times[dat['sid']]=[dat['ts']]\n",
    "for i in times.values():\n",
    "    i=sorted(i)\n",
    "    count=0\n",
    "    d=datetime.datetime.strptime(i[0], \"%Y-%m-%dT%H:%M:%S+05:30\")\n",
    "    for t in range(len(i)-1):\n",
    "        a = datetime.datetime.strptime(i[t], \"%Y-%m-%dT%H:%M:%S+05:30\")\n",
    "        b = datetime.datetime.strptime(i[t+1], \"%Y-%m-%dT%H:%M:%S+05:30\")\n",
    "        c = b - a\n",
    "        if(c.seconds<600):\n",
    "            d=d+c       \n",
    "    print \"Time:\",d-datetime.datetime.strptime(i[0], \"%Y-%m-%dT%H:%M:%S+05:30\")"
   ]
  }
 ],
 "metadata": {
  "kernelspec": {
   "display_name": "Python 2",
   "language": "python",
   "name": "python2"
  },
  "language_info": {
   "codemirror_mode": {
    "name": "ipython",
    "version": 2
   },
   "file_extension": ".py",
   "mimetype": "text/x-python",
   "name": "python",
   "nbconvert_exporter": "python",
   "pygments_lexer": "ipython2",
   "version": "2.7.10"
  }
 },
 "nbformat": 4,
 "nbformat_minor": 0
}
