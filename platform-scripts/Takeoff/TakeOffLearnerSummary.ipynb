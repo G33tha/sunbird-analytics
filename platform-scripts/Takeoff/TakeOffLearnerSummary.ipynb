{
 "cells": [
  {
   "cell_type": "code",
   "execution_count": 3,
   "metadata": {
    "collapsed": true
   },
   "outputs": [],
   "source": [
    "import json\n",
    "import matplotlib.pyplot as plt\n",
    "import pandas as pd\n",
    "import datetime"
   ]
  },
  {
   "cell_type": "code",
   "execution_count": 4,
   "metadata": {
    "collapsed": false
   },
   "outputs": [],
   "source": [
    "data=[]\n",
    "with open('DeltaDump2016TillApril.txt') as f:\n",
    "    for line in f:\n",
    "        data.append(json.loads(line))"
   ]
  },
  {
   "cell_type": "code",
   "execution_count": 9,
   "metadata": {
    "collapsed": false
   },
   "outputs": [
    {
     "name": "stdout",
     "output_type": "stream",
     "text": [
      "{u'ets': 0, u'gdata': {u'ver': u'1.0', u'id': u'org.ekstep.delta'}, u'ver': u'1.0', u'uid': u'165eaf3e-9d81-41cf-b3f4-5bd4a4bd7d8a', u'tags': [{u'partnerid': u'org.ekstep.partner.pratham'}], u'did': u'83c962c48cf000b19826d04be316a360326ddc9a', u'@timestamp': u'2016-01-01T00:00:00.000Z', u'ts': u'2015-12-31T08:06:04+05:30', u'eid': u'OE_INTERACT', u'sid': u'492cebeb-85de-4805-86eb-8ae2209bdd5d', u'edata': {u'ext': {}, u'eks': {u'failedatmpts': 0, u'extype': u'', u'uri': u'', u'atmpts': 0, u'score': 0, u'type': u'DROP', u'id': u'suitcase.stamp'}}}\n"
     ]
    }
   ],
   "source": [
    "print data[4]"
   ]
  },
  {
   "cell_type": "code",
   "execution_count": null,
   "metadata": {
    "collapsed": true
   },
   "outputs": [],
   "source": []
  }
 ],
 "metadata": {
  "kernelspec": {
   "display_name": "Python 2",
   "language": "python",
   "name": "python2"
  },
  "language_info": {
   "codemirror_mode": {
    "name": "ipython",
    "version": 2
   },
   "file_extension": ".py",
   "mimetype": "text/x-python",
   "name": "python",
   "nbconvert_exporter": "python",
   "pygments_lexer": "ipython2",
   "version": "2.7.10"
  }
 },
 "nbformat": 4,
 "nbformat_minor": 0
}
