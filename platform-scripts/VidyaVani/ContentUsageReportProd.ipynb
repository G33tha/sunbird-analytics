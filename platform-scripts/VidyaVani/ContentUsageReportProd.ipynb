{
 "cells": [
  {
   "cell_type": "markdown",
   "metadata": {},
   "source": [
    "# Analysis of content usage in production"
   ]
  },
  {
   "cell_type": "markdown",
   "metadata": {},
   "source": [
    "\n",
    "Data used for analysis: \n",
    "\n",
    "Telemetry:(from 2015-09-03 to 2016-05-26)\n",
    "    content played per device\n",
    "    total time spent on device\n",
    "    timestamp of last session\n",
    "    \n",
    "Derived: \n",
    "    number of sessions as total number of occurance of a particular content id on a device\n",
    "    \n",
    "content list:\n",
    "    content list in production with status:[\"Live\", \"Draft\", \"Retired]\n",
    "    and contentType\": [\"Game\", \"Worksheet\", \"Story\"]"
   ]
  },
  {
   "cell_type": "code",
   "execution_count": 2,
   "metadata": {
    "collapsed": false
   },
   "outputs": [
    {
     "name": "stderr",
     "output_type": "stream",
     "text": [
      "/Library/Python/2.7/site-packages/pkg_resources/__init__.py:1268: UserWarning: /Users/adarsa/.python-eggs is writable by group/others and vulnerable to attack when used with get_resource_filename. Consider a more secure location (set with .set_extraction_path or the PYTHON_EGG_CACHE environment variable).\n",
      "  warnings.warn(msg, UserWarning)\n"
     ]
    }
   ],
   "source": [
    "import sys\n",
    "import collections\n",
    "import os.path\n",
    "import requests\n",
    "import operator\n",
    "import requests\n",
    "import numpy as np\n",
    "\n",
    "# on exit clean-ups\n",
    "import atexit\n",
    "\n",
    "# cassandra libs\n",
    "from cassandra.cluster import Cluster\n",
    "from cassandra.query import dict_factory\n",
    "\n",
    "def dbCleanUP(cassandraDbOn):\n",
    "    if cassandraDbOn:\n",
    "    \tprint 'cleaning Cassandra state'\n",
    "    \tsession.shutdown();\n",
    "    \tcluster.shutdown();\n",
    "\n",
    "atexit.register(dbCleanUP,True,True)\n",
    "\n",
    "# setup cassandra connection\n",
    "cassandraDbOn=True\n",
    "cluster = Cluster()\n",
    "session = cluster.connect('content_db')\n",
    "\n",
    "# set response schema to Dictionaries\n",
    "session.row_factory = dict_factory\n",
    "\n",
    "#get genie usage data from production\n",
    "#2015-09-03 to 2016-05-26\n",
    "query=\"SELECT * FROM content_db.genie_usage_summary \"\n",
    "resp = session.execute(query)\n"
   ]
  },
  {
   "cell_type": "code",
   "execution_count": 9,
   "metadata": {
    "collapsed": false
   },
   "outputs": [
    
   ],
   "source": [
    "#get unique number of content in prod\n",
    "contentwatched=[]\n",
    "for i in range(0,len(resp)):\n",
    "    if (resp[i]['content']!=None):\n",
    "        #a=set(resp[i]['content'])\n",
    "        contentwatched.append(list(set(resp[i]['content'])))\n",
    "unique_list = [e for i, e in enumerate(contentwatched) if contentwatched.index(e) == i]\n",
    "cid_used=[]\n",
    "for i in xrange(len(unique_list)):\n",
    "    for k in xrange(len(unique_list[i])):\n",
    "        cid_used.append(unique_list[i][k])\n",
    "cid_used=[e for i, e in enumerate(cid_used) if cid_used.index(e) == i]\n "
   ]
  },
  {
   "cell_type": "markdown",
   "metadata": {},
   "source": [
    "#content used in device - most used content on top \n",
    "cid_used\n",
    "\n",
    "[u'org.ekstep.aser',\n",
    " u'org.ekstep.aser.lite',\n",
    " u'org.ekstep.khusi',\n",
    " u'org.ekstep.tellmenowhappyandsad',\n",
    " u'org.ekstep.delta',\n",
    " u'org.ekstep.lit.scrnr.kan.lite_static',\n",
    " u'domain_14437',\n",
    " u'org.ekstep.listentomybody',\n",
    " u'org.ekstep.howtoweighanelephant',\n",
    " u'org.ekstep.hindistorypart1',\n",
    " u'org.ekstep.story.hi.elephant',\n",
    " u'numeracy_369',\n",
    " u'org.ekstep.quiz.app',\n",
    " u'test.org.ekstep.read-along',\n",
    " u'org.ekstep.story.hi.wedding',\n",
    " u'org.ekstep.esl1',\n",
    " u'org.ekstep.Vayuthewindhindi',\n",
    " u'domain_3801',\n",
    " u'domain_48659',\n",
    " u'domain_48905',\n",
    " u'domain_45479',\n",
    " u'domain_45476',\n",
    " u'org.ekstep.lit.moon_cap.story',\n",
    " u'org.ekstep.flyinghigh',\n",
    " u'numeracy_377',\n",
    " u'org.ekstep.englishsecondlanguage',\n",
    " u'domain_14828',\n",
    " u'org.ekstep.story.en.elephant',\n",
    " u'org.ekstep.lit.haircut.story',\n",
    " u'org.ekstep.Thetreehindi',\n",
    " u'org.ekstep.story.ka.elephant',\n",
    " u'org.ekstep.prathamhindi2']"
   ]
  },
  {
   "cell_type": "code",
   "execution_count": 4,
   "metadata": {
    "collapsed": false
   },
   "outputs": [],
   "source": [
    "#calculating content usage on device and timespent on each content\n",
    "\n",
    "dids=[\"\" for x in range(len(resp))]\n",
    "content_dev_usage=np.zeros((len(resp),len(cid_used)))\n",
    "content_dev_timespent=np.zeros((len(resp),len(cid_used)))\n",
    "p=[]\n",
    "resp[1]['timespent']\n",
    "for i in range(0,len(cid_used)):\n",
    "    #cids[i]=resp2['result']['contents'][i]['identifier']\n",
    "    for num_did in range(1,len(resp)):\n",
    "        #outliers removed\n",
    "        if ((resp[num_did]['content']!=None)&(num_did!=160)&(num_did!=229)&(num_did!=357)):\n",
    "            if any(cid_used[i] in k for k in resp[num_did]['content']):\n",
    "                p.append([num_did,i])\n",
    "                content_dev_usage[num_did][i]=content_dev_usage[num_did][i]+1\n",
    "                timeoncid=(resp[num_did]['timespent']*resp[num_did]['content'].count(cid_used[i]))\n",
    "                content_dev_timespent[num_did][i]=content_dev_timespent[num_did][i]+timeoncid\n",
    "for num_did in range(1,len(resp)):    \n",
    "    dids[num_did]=resp[num_did]['did']      \n",
    "\n",
    "#content and device usage parameters\n",
    "timePerCid=np.sum(content_dev_timespent,axis=0)\n",
    "timePerDid=np.sum(content_dev_timespent,axis=1)\n",
    "sessionPerCid=np.sum(content_dev_usage,axis=0)\n",
    "sessionPerDid=np.sum(content_dev_usage,axis=1)"
   ]
  },
  {
   "cell_type": "code",
   "execution_count": 6,
   "metadata": {
    "collapsed": false
   },
   "outputs": [
    {
     "data": {
      "text/plain": [
       "<matplotlib.figure.Figure at 0x10b4aaa50>"
      ]
     },
     "metadata": {},
     "output_type": "display_data"
    },
    {
     "data": {
      "image/png": "[encoded data removed]",
      "text/plain": [
       "<matplotlib.figure.Figure at 0x10bd2cad0>"
      ]
     },
     "metadata": {},
     "output_type": "display_data"
    }
   ],
   "source": [
    "%matplotlib inline\n",
    "\n",
    "import matplotlib.pyplot as plt\n",
    "import pylab as pl\n",
    "plt.figure()\n",
    "rows = dids\n",
    "columns = cid_used\n",
    "\n",
    "fig, ax = plt.subplots()\n",
    "heatmap = ax.pcolor(content_dev_usage.transpose(), cmap=plt.cm.Blues)\n",
    "plt.xlabel('device id')\n",
    "plt.ylabel('content id')\n",
    "plt.title('content usage across devices')\n",
    "plt.show()\n",
    "plt.close()"
   ]
  },
  {
   "cell_type": "code",
   "execution_count": 9,
   "metadata": {
    "collapsed": false
   },
   "outputs": [
    {
     "data": {
      "text/plain": [
       "<matplotlib.figure.Figure at 0x10c54ae10>"
      ]
     },
     "metadata": {},
     "output_type": "display_data"
    },
    {
     "data": {
      "image/png": "[encoded data removed]",
      "text/plain": [
       "<matplotlib.figure.Figure at 0x10c54add0>"
      ]
     },
     "metadata": {},
     "output_type": "display_data"
    }
   ],
   "source": [
    "#plot timespent on content across devices\n",
    "plt.figure()\n",
    "rows = dids\n",
    "columns = cid_used\n",
    "plt.matshow(content_dev_timespent[0:100][:].transpose(),cmap=plt.cm.Blues)\n",
    "plt.xlabel('device id')\n",
    "plt.ylabel('content id')\n",
    "plt.title('timespent per content across device id in range 1:100',)\n",
    "plt.show()\n",
    "plt.close()"
   ]
  },
  {
   "cell_type": "code",
   "execution_count": 7,
   "metadata": {
    "collapsed": false
   },
   "outputs": [
    {
     "data": {
      "image/png": "[encoded data removed]",
      "text/plain": [
       "<matplotlib.figure.Figure at 0x10be05090>"
      ]
     },
     "metadata": {},
     "output_type": "display_data"
    }
   ],
   "source": [
    "plt.figure(figsize=(10,7))\n",
    "plt.scatter(timePerDid,sessionPerDid)\n",
    "plt.xlabel('time spent per device-in minutes')\n",
    "plt.ylabel('number of usages of the device')\n",
    "plt.title('scatter plot of timespent and number of session across devices')\n",
    "plt.show()\n",
    "plt.close()"
   ]
  },
  {
   "cell_type": "code",
   "execution_count": null,
   "metadata": {
    "collapsed": true
   },
   "outputs": [],
   "source": [
    "#get content list from production \n",
    "\n",
    "#url = \"http://lp-sandbox.ekstep.org:8080/taxonomy-service/v2/analytics/content/list\"\n",
    "url=\"http://52.77.241.169:8080/taxonomy-service/v2/content/list\"\n",
    "resp2 = requests.post(url)"
   ]
  },
  {
   "cell_type": "code",
   "execution_count": null,
   "metadata": {
    "collapsed": true
   },
   "outputs": [],
   "source": [
    "#contents=np.zeros(len(resp2['result']['contents']),dtype=np.int)\n",
    "cids=[\"\" for x in range(len(resp2['result']['contents']))]\n",
    "dids=[\"\" for x in range(len(resp))]\n",
    "content_dev_usage=np.zeros((len(resp),len(resp2['result']['contents'])))\n",
    "content_dev_timespent=np.zeros((len(resp),len(resp2['result']['contents'])))\n",
    "p=[]\n",
    "resp[1]['timespent']\n",
    "for i in range(0,len(resp2['result']['contents'])):\n",
    "    cids[i]=resp2['result']['contents'][i]['identifier']\n",
    "    for num_did in range(1,len(resp)):\n",
    "        if (resp[num_did]['content']!=None):\n",
    "            if any(str(resp2['result']['contents'][i]['identifier']) in k for k in resp[num_did]['content']):\n",
    "                content_dev_usage[num_did][i]=content_dev_usage[num_did][i]+1\n",
    "                timeoncid=(resp[num_did]['timespent']*resp[num_did]['content'].count(resp2['result']['contents'][i]['identifier']))\n",
    "                content_dev_timespent[num_did][i]=content_dev_timespent[num_did][i]+timeoncid\n",
    "for num_did in range(1,len(resp)):    \n",
    "    dids[num_did]=resp[num_did]['did']      \n"
   ]
  }
 ],
 "metadata": {
  "kernelspec": {
   "display_name": "Python 2",
   "language": "python",
   "name": "python2"
  },
  "language_info": {
   "codemirror_mode": {
    "name": "ipython",
    "version": 2
   },
   "file_extension": ".py",
   "mimetype": "text/x-python",
   "name": "python",
   "nbconvert_exporter": "python",
   "pygments_lexer": "ipython2",
   "version": "2.7.10"
  }
 },
 "nbformat": 4,
 "nbformat_minor": 0
}
