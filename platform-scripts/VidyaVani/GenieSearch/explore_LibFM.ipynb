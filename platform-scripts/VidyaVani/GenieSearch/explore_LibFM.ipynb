{
 "cells": [
  {
   "cell_type": "code",
   "execution_count": 1,
   "metadata": {
    "collapsed": true
   },
   "outputs": [],
   "source": [
    "import pywFM\n",
    "import numpy as np\n",
    "import pandas as pd\n",
    "import scipy as sp\n",
    "import sklearn as sk\n",
    "import os as os\n",
    "#os.environ[\"LIBFM_PATH\"] = \"/Library/Python/2.7/site-packages/libfm/bin/\""
   ]
  },
  {
   "cell_type": "code",
   "execution_count": 6,
   "metadata": {
    "collapsed": false
   },
   "outputs": [],
   "source": [
    "features = np.matrix([\n",
    "#     Users  |     Movies     |    Movie Ratings   | Time | Last Movies Rated\n",
    "#    A  B  C | TI  NH  SW  ST | TI   NH   SW   ST  |      | TI  NH  SW  ST\n",
    "    [1, 0, 0,  1,  0,  0,  0,   0.3, 0.3, 0.3, 0,     13,   0,  0,  0,  0 ],\n",
    "    [1, 0, 0,  0,  1,  0,  0,   0.3, 0.3, 0.3, 0,     14,   1,  0,  0,  0 ],\n",
    "    [1, 0, 0,  0,  0,  1,  0,   0.3, 0.3, 0.3, 0,     16,   0,  1,  0,  0 ],\n",
    "    [0, 1, 0,  0,  0,  1,  0,   0,   0,   0.5, 0.5,   5,    0,  0,  0,  0 ],\n",
    "    [0, 1, 0,  0,  0,  0,  1,   0,   0,   0.5, 0.5,   8,    0,  0,  1,  0 ],\n",
    "    [0, 0, 1,  1,  0,  0,  0,   0.5, 0,   0.5, 0,     9,    0,  0,  0,  0 ],\n",
    "    [0, 0, 1,  0,  0,  1,  0,   0.5, 0,   0.5, 0,     12,   1,  0,  0,  0 ]\n",
    "])\n",
    "target = [5, 3, 1, 4, 5, 1, 5]\n",
    "target2 = [0, 1, 1, 0, 1, 0, 0]"
   ]
  },
  {
   "cell_type": "code",
   "execution_count": 8,
   "metadata": {
    "collapsed": false
   },
   "outputs": [],
   "source": [
    "fm = pywFM.FM(task='regression', num_iter=5)\n",
    "fm2 = pywFM.FM(task='classification', num_iter=5)"
   ]
  },
  {
   "cell_type": "code",
   "execution_count": 11,
   "metadata": {
    "collapsed": false
   },
   "outputs": [],
   "source": [
    "# split features and target for train/test\n",
    "# first 5 are train, last 2 are test\n",
    "model = fm.run(features[:5], target[:5], features[5:], target[5:])\n",
    "model2 = fm.run(features[:5], target2[:5], features[5:], target2[5:])"
   ]
  },
  {
   "cell_type": "code",
   "execution_count": 5,
   "metadata": {
    "collapsed": false
   },
   "outputs": [
    {
     "name": "stdout",
     "output_type": "stream",
     "text": [
      "[4.22778, 2.66667]\n",
      "[-0.807385, -0.411138, -0.379823, -0.331955, -0.846048, -0.393521, -0.42321, 0.0821262, -0.130922, -0.425061, -0.84647, 0.0389039, 0.220942, -0.476335, 0.0704385]\n"
     ]
    }
   ],
   "source": [
    "print(model.predictions)\n",
    "# you can also get the model weights\n",
    "print(model.weights)"
   ]
  },
  {
   "cell_type": "code",
   "execution_count": 12,
   "metadata": {
    "collapsed": false
   },
   "outputs": [
    {
     "name": "stdout",
     "output_type": "stream",
     "text": [
      "[0.61337, 0.6]\n",
      "[0.714902, 0.887043, -0.203405, 0.131781, 0.364718, 0.304558, 0.190165, -0.450575, -0.420527, 0.372945, -0.11532, -0.0748185, 0.380949, -0.0852338, 0.038592]\n"
     ]
    }
   ],
   "source": [
    "print(model2.predictions)\n",
    "# you can also get the model weights\n",
    "print(model2.weights)"
   ]
  },
  {
   "cell_type": "code",
   "execution_count": null,
   "metadata": {
    "collapsed": true
   },
   "outputs": [],
   "source": []
  }
 ],
 "metadata": {
  "kernelspec": {
   "display_name": "Python 2",
   "language": "python",
   "name": "python2"
  },
  "language_info": {
   "codemirror_mode": {
    "name": "ipython",
    "version": 2
   },
   "file_extension": ".py",
   "mimetype": "text/x-python",
   "name": "python",
   "nbconvert_exporter": "python",
   "pygments_lexer": "ipython2",
   "version": "2.7.10"
  }
 },
 "nbformat": 4,
 "nbformat_minor": 0
}
